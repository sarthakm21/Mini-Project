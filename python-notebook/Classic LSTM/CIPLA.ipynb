{
  "nbformat": 4,
  "nbformat_minor": 0,
  "metadata": {
    "colab": {
      "name": "CIPLA.ipynb",
      "provenance": []
    },
    "kernelspec": {
      "display_name": "Python 3",
      "language": "python",
      "name": "python3"
    },
    "language_info": {
      "codemirror_mode": {
        "name": "ipython",
        "version": 3
      },
      "file_extension": ".py",
      "mimetype": "text/x-python",
      "name": "python",
      "nbconvert_exporter": "python",
      "pygments_lexer": "ipython3",
      "version": "3.6.5"
    }
  },
  "cells": [
    {
      "cell_type": "code",
      "metadata": {
        "colab": {
          "resources": {
            "http://localhost:8080/nbextensions/google.colab/files.js": {
              "data": "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",
              "ok": true,
              "headers": [
                [
                  "content-type",
                  "application/javascript"
                ]
              ],
              "status": 200,
              "status_text": ""
            }
          },
          "base_uri": "https://localhost:8080/",
          "height": 72
        },
        "id": "1348nQGCliNd",
        "outputId": "4cb8ea9b-4cf8-4e6a-a6e1-70c2b82515ec"
      },
      "source": [
        "from google.colab import files\n",
        "uploaded = files.upload()"
      ],
      "execution_count": 1,
      "outputs": [
        {
          "output_type": "display_data",
          "data": {
            "text/html": [
              "\n",
              "     <input type=\"file\" id=\"files-a13e2608-b602-4505-b35f-48ee24c8cfb2\" name=\"files[]\" multiple disabled\n",
              "        style=\"border:none\" />\n",
              "     <output id=\"result-a13e2608-b602-4505-b35f-48ee24c8cfb2\">\n",
              "      Upload widget is only available when the cell has been executed in the\n",
              "      current browser session. Please rerun this cell to enable.\n",
              "      </output>\n",
              "      <script src=\"/nbextensions/google.colab/files.js\"></script> "
            ],
            "text/plain": [
              "<IPython.core.display.HTML object>"
            ]
          },
          "metadata": {}
        },
        {
          "output_type": "stream",
          "name": "stdout",
          "text": [
            "Saving CIPLA.csv to CIPLA.csv\n"
          ]
        }
      ]
    },
    {
      "cell_type": "code",
      "metadata": {
        "id": "y17UePwrlPcv"
      },
      "source": [
        "import pandas as pd\n",
        "import numpy as np\n",
        "%matplotlib inline\n",
        "import matplotlib.pyplot as plt\n",
        "import matplotlib\n",
        "from sklearn.preprocessing import MinMaxScaler\n",
        "from keras.layers import LSTM,Dense,Dropout\n",
        "from sklearn.model_selection import TimeSeriesSplit\n",
        "from sklearn.metrics import mean_squared_error, r2_score\n",
        "import matplotlib.dates as mdates\n",
        "from sklearn import linear_model\n"
      ],
      "execution_count": 2,
      "outputs": []
    },
    {
      "cell_type": "markdown",
      "metadata": {
        "id": "l6AAOVGxlPcy"
      },
      "source": [
        "# Reading data using parse date\n",
        "As it is timeseries data so we have to read the data by parsing date means making data column as index."
      ]
    },
    {
      "cell_type": "code",
      "metadata": {
        "id": "bb6ThUY3lPc0"
      },
      "source": [
        "df_final = pd.read_csv(\"CIPLA.csv\",na_values=['null'],index_col='Date',parse_dates=True,infer_datetime_format=True)"
      ],
      "execution_count": 3,
      "outputs": []
    },
    {
      "cell_type": "code",
      "metadata": {
        "colab": {
          "base_uri": "https://localhost:8080/",
          "height": 235
        },
        "id": "nFhSo0TglPc0",
        "outputId": "5299353d-d01d-4f4d-a137-1b648ba0b68f"
      },
      "source": [
        "df_final.head()"
      ],
      "execution_count": 4,
      "outputs": [
        {
          "output_type": "execute_result",
          "data": {
            "text/html": [
              "<div>\n",
              "<style scoped>\n",
              "    .dataframe tbody tr th:only-of-type {\n",
              "        vertical-align: middle;\n",
              "    }\n",
              "\n",
              "    .dataframe tbody tr th {\n",
              "        vertical-align: top;\n",
              "    }\n",
              "\n",
              "    .dataframe thead th {\n",
              "        text-align: right;\n",
              "    }\n",
              "</style>\n",
              "<table border=\"1\" class=\"dataframe\">\n",
              "  <thead>\n",
              "    <tr style=\"text-align: right;\">\n",
              "      <th></th>\n",
              "      <th>Symbol</th>\n",
              "      <th>Series</th>\n",
              "      <th>Prev Close</th>\n",
              "      <th>Open</th>\n",
              "      <th>High</th>\n",
              "      <th>Low</th>\n",
              "      <th>Last</th>\n",
              "      <th>Close</th>\n",
              "      <th>VWAP</th>\n",
              "      <th>Volume</th>\n",
              "      <th>Turnover</th>\n",
              "      <th>Trades</th>\n",
              "      <th>Deliverable Volume</th>\n",
              "      <th>%Deliverble</th>\n",
              "    </tr>\n",
              "    <tr>\n",
              "      <th>Date</th>\n",
              "      <th></th>\n",
              "      <th></th>\n",
              "      <th></th>\n",
              "      <th></th>\n",
              "      <th></th>\n",
              "      <th></th>\n",
              "      <th></th>\n",
              "      <th></th>\n",
              "      <th></th>\n",
              "      <th></th>\n",
              "      <th></th>\n",
              "      <th></th>\n",
              "      <th></th>\n",
              "      <th></th>\n",
              "    </tr>\n",
              "  </thead>\n",
              "  <tbody>\n",
              "    <tr>\n",
              "      <th>2000-01-03</th>\n",
              "      <td>CIPLA</td>\n",
              "      <td>EQ</td>\n",
              "      <td>1349.40</td>\n",
              "      <td>1410.0</td>\n",
              "      <td>1457.35</td>\n",
              "      <td>1380.05</td>\n",
              "      <td>1457.35</td>\n",
              "      <td>1457.35</td>\n",
              "      <td>1441.36</td>\n",
              "      <td>21060</td>\n",
              "      <td>3.035496e+12</td>\n",
              "      <td>NaN</td>\n",
              "      <td>NaN</td>\n",
              "      <td>NaN</td>\n",
              "    </tr>\n",
              "    <tr>\n",
              "      <th>2000-01-04</th>\n",
              "      <td>CIPLA</td>\n",
              "      <td>EQ</td>\n",
              "      <td>1457.35</td>\n",
              "      <td>1537.0</td>\n",
              "      <td>1537.00</td>\n",
              "      <td>1430.00</td>\n",
              "      <td>1466.05</td>\n",
              "      <td>1465.25</td>\n",
              "      <td>1460.43</td>\n",
              "      <td>30215</td>\n",
              "      <td>4.412698e+12</td>\n",
              "      <td>NaN</td>\n",
              "      <td>NaN</td>\n",
              "      <td>NaN</td>\n",
              "    </tr>\n",
              "    <tr>\n",
              "      <th>2000-01-05</th>\n",
              "      <td>CIPLA</td>\n",
              "      <td>EQ</td>\n",
              "      <td>1465.25</td>\n",
              "      <td>1474.0</td>\n",
              "      <td>1474.00</td>\n",
              "      <td>1365.00</td>\n",
              "      <td>1441.00</td>\n",
              "      <td>1435.05</td>\n",
              "      <td>1428.11</td>\n",
              "      <td>33799</td>\n",
              "      <td>4.826872e+12</td>\n",
              "      <td>NaN</td>\n",
              "      <td>NaN</td>\n",
              "      <td>NaN</td>\n",
              "    </tr>\n",
              "    <tr>\n",
              "      <th>2000-01-06</th>\n",
              "      <td>CIPLA</td>\n",
              "      <td>EQ</td>\n",
              "      <td>1435.05</td>\n",
              "      <td>1434.0</td>\n",
              "      <td>1435.00</td>\n",
              "      <td>1349.00</td>\n",
              "      <td>1365.00</td>\n",
              "      <td>1355.85</td>\n",
              "      <td>1390.55</td>\n",
              "      <td>33083</td>\n",
              "      <td>4.600356e+12</td>\n",
              "      <td>NaN</td>\n",
              "      <td>NaN</td>\n",
              "      <td>NaN</td>\n",
              "    </tr>\n",
              "    <tr>\n",
              "      <th>2000-01-07</th>\n",
              "      <td>CIPLA</td>\n",
              "      <td>EQ</td>\n",
              "      <td>1355.85</td>\n",
              "      <td>1370.0</td>\n",
              "      <td>1389.90</td>\n",
              "      <td>1247.40</td>\n",
              "      <td>1247.40</td>\n",
              "      <td>1247.55</td>\n",
              "      <td>1267.49</td>\n",
              "      <td>66536</td>\n",
              "      <td>8.433351e+12</td>\n",
              "      <td>NaN</td>\n",
              "      <td>NaN</td>\n",
              "      <td>NaN</td>\n",
              "    </tr>\n",
              "  </tbody>\n",
              "</table>\n",
              "</div>"
            ],
            "text/plain": [
              "           Symbol Series  Prev Close  ...  Trades  Deliverable Volume  %Deliverble\n",
              "Date                                  ...                                         \n",
              "2000-01-03  CIPLA     EQ     1349.40  ...     NaN                 NaN          NaN\n",
              "2000-01-04  CIPLA     EQ     1457.35  ...     NaN                 NaN          NaN\n",
              "2000-01-05  CIPLA     EQ     1465.25  ...     NaN                 NaN          NaN\n",
              "2000-01-06  CIPLA     EQ     1435.05  ...     NaN                 NaN          NaN\n",
              "2000-01-07  CIPLA     EQ     1355.85  ...     NaN                 NaN          NaN\n",
              "\n",
              "[5 rows x 14 columns]"
            ]
          },
          "metadata": {},
          "execution_count": 4
        }
      ]
    },
    {
      "cell_type": "code",
      "metadata": {
        "colab": {
          "base_uri": "https://localhost:8080/"
        },
        "id": "3TAadyfelPc3",
        "outputId": "d8d00939-cf55-4248-da98-3a03087e1527"
      },
      "source": [
        "\n",
        "df_final.shape"
      ],
      "execution_count": 5,
      "outputs": [
        {
          "output_type": "execute_result",
          "data": {
            "text/plain": [
              "(5306, 14)"
            ]
          },
          "metadata": {},
          "execution_count": 5
        }
      ]
    },
    {
      "cell_type": "code",
      "metadata": {
        "colab": {
          "base_uri": "https://localhost:8080/",
          "height": 297
        },
        "id": "ufY2rv0ElPc4",
        "outputId": "720315dc-e31c-40c3-8c08-d7f517f2d023"
      },
      "source": [
        "df_final.describe()"
      ],
      "execution_count": 6,
      "outputs": [
        {
          "output_type": "execute_result",
          "data": {
            "text/html": [
              "<div>\n",
              "<style scoped>\n",
              "    .dataframe tbody tr th:only-of-type {\n",
              "        vertical-align: middle;\n",
              "    }\n",
              "\n",
              "    .dataframe tbody tr th {\n",
              "        vertical-align: top;\n",
              "    }\n",
              "\n",
              "    .dataframe thead th {\n",
              "        text-align: right;\n",
              "    }\n",
              "</style>\n",
              "<table border=\"1\" class=\"dataframe\">\n",
              "  <thead>\n",
              "    <tr style=\"text-align: right;\">\n",
              "      <th></th>\n",
              "      <th>Prev Close</th>\n",
              "      <th>Open</th>\n",
              "      <th>High</th>\n",
              "      <th>Low</th>\n",
              "      <th>Last</th>\n",
              "      <th>Close</th>\n",
              "      <th>VWAP</th>\n",
              "      <th>Volume</th>\n",
              "      <th>Turnover</th>\n",
              "      <th>Trades</th>\n",
              "      <th>Deliverable Volume</th>\n",
              "      <th>%Deliverble</th>\n",
              "    </tr>\n",
              "  </thead>\n",
              "  <tbody>\n",
              "    <tr>\n",
              "      <th>count</th>\n",
              "      <td>5306.000000</td>\n",
              "      <td>5306.000000</td>\n",
              "      <td>5306.000000</td>\n",
              "      <td>5306.000000</td>\n",
              "      <td>5306.000000</td>\n",
              "      <td>5306.000000</td>\n",
              "      <td>5306.000000</td>\n",
              "      <td>5.306000e+03</td>\n",
              "      <td>5.306000e+03</td>\n",
              "      <td>2456.000000</td>\n",
              "      <td>4.792000e+03</td>\n",
              "      <td>4792.000000</td>\n",
              "    </tr>\n",
              "    <tr>\n",
              "      <th>mean</th>\n",
              "      <td>540.503798</td>\n",
              "      <td>541.457755</td>\n",
              "      <td>549.587693</td>\n",
              "      <td>532.143583</td>\n",
              "      <td>540.472588</td>\n",
              "      <td>540.421052</td>\n",
              "      <td>540.931589</td>\n",
              "      <td>1.550071e+06</td>\n",
              "      <td>7.841696e+13</td>\n",
              "      <td>44967.250407</td>\n",
              "      <td>7.408486e+05</td>\n",
              "      <td>0.509209</td>\n",
              "    </tr>\n",
              "    <tr>\n",
              "      <th>std</th>\n",
              "      <td>289.319810</td>\n",
              "      <td>289.955959</td>\n",
              "      <td>295.087710</td>\n",
              "      <td>283.868905</td>\n",
              "      <td>289.158087</td>\n",
              "      <td>289.151156</td>\n",
              "      <td>289.411215</td>\n",
              "      <td>2.317962e+06</td>\n",
              "      <td>1.620908e+14</td>\n",
              "      <td>43776.047324</td>\n",
              "      <td>7.339493e+05</td>\n",
              "      <td>0.154639</td>\n",
              "    </tr>\n",
              "    <tr>\n",
              "      <th>min</th>\n",
              "      <td>160.100000</td>\n",
              "      <td>150.550000</td>\n",
              "      <td>169.450000</td>\n",
              "      <td>145.000000</td>\n",
              "      <td>152.000000</td>\n",
              "      <td>160.100000</td>\n",
              "      <td>158.140000</td>\n",
              "      <td>5.050000e+02</td>\n",
              "      <td>5.400606e+10</td>\n",
              "      <td>613.000000</td>\n",
              "      <td>2.013000e+03</td>\n",
              "      <td>0.069300</td>\n",
              "    </tr>\n",
              "    <tr>\n",
              "      <th>25%</th>\n",
              "      <td>309.025000</td>\n",
              "      <td>309.962500</td>\n",
              "      <td>312.750000</td>\n",
              "      <td>305.350000</td>\n",
              "      <td>309.000000</td>\n",
              "      <td>309.025000</td>\n",
              "      <td>309.290000</td>\n",
              "      <td>3.790408e+05</td>\n",
              "      <td>1.447839e+13</td>\n",
              "      <td>21724.000000</td>\n",
              "      <td>2.831312e+05</td>\n",
              "      <td>0.404575</td>\n",
              "    </tr>\n",
              "    <tr>\n",
              "      <th>50%</th>\n",
              "      <td>473.850000</td>\n",
              "      <td>474.625000</td>\n",
              "      <td>479.950000</td>\n",
              "      <td>468.875000</td>\n",
              "      <td>473.525000</td>\n",
              "      <td>473.850000</td>\n",
              "      <td>475.215000</td>\n",
              "      <td>1.047786e+06</td>\n",
              "      <td>3.725861e+13</td>\n",
              "      <td>32967.000000</td>\n",
              "      <td>5.787145e+05</td>\n",
              "      <td>0.516650</td>\n",
              "    </tr>\n",
              "    <tr>\n",
              "      <th>75%</th>\n",
              "      <td>681.937500</td>\n",
              "      <td>683.225000</td>\n",
              "      <td>691.787500</td>\n",
              "      <td>671.675000</td>\n",
              "      <td>681.937500</td>\n",
              "      <td>681.937500</td>\n",
              "      <td>682.035000</td>\n",
              "      <td>1.815542e+06</td>\n",
              "      <td>7.848478e+13</td>\n",
              "      <td>50869.500000</td>\n",
              "      <td>9.761000e+05</td>\n",
              "      <td>0.615125</td>\n",
              "    </tr>\n",
              "    <tr>\n",
              "      <th>max</th>\n",
              "      <td>1465.250000</td>\n",
              "      <td>1537.000000</td>\n",
              "      <td>1537.000000</td>\n",
              "      <td>1430.000000</td>\n",
              "      <td>1466.050000</td>\n",
              "      <td>1465.250000</td>\n",
              "      <td>1460.430000</td>\n",
              "      <td>5.689556e+07</td>\n",
              "      <td>4.498902e+15</td>\n",
              "      <td>603361.000000</td>\n",
              "      <td>1.081558e+07</td>\n",
              "      <td>0.994500</td>\n",
              "    </tr>\n",
              "  </tbody>\n",
              "</table>\n",
              "</div>"
            ],
            "text/plain": [
              "        Prev Close         Open  ...  Deliverable Volume  %Deliverble\n",
              "count  5306.000000  5306.000000  ...        4.792000e+03  4792.000000\n",
              "mean    540.503798   541.457755  ...        7.408486e+05     0.509209\n",
              "std     289.319810   289.955959  ...        7.339493e+05     0.154639\n",
              "min     160.100000   150.550000  ...        2.013000e+03     0.069300\n",
              "25%     309.025000   309.962500  ...        2.831312e+05     0.404575\n",
              "50%     473.850000   474.625000  ...        5.787145e+05     0.516650\n",
              "75%     681.937500   683.225000  ...        9.761000e+05     0.615125\n",
              "max    1465.250000  1537.000000  ...        1.081558e+07     0.994500\n",
              "\n",
              "[8 rows x 12 columns]"
            ]
          },
          "metadata": {},
          "execution_count": 6
        }
      ]
    },
    {
      "cell_type": "code",
      "metadata": {
        "colab": {
          "base_uri": "https://localhost:8080/"
        },
        "id": "H2nvwnJqlPc5",
        "outputId": "cc63b0c7-5a64-4da5-e2df-6dd39de208a1"
      },
      "source": [
        "df_final.isnull().values.any()"
      ],
      "execution_count": 7,
      "outputs": [
        {
          "output_type": "execute_result",
          "data": {
            "text/plain": [
              "True"
            ]
          },
          "metadata": {},
          "execution_count": 7
        }
      ]
    },
    {
      "cell_type": "code",
      "metadata": {
        "colab": {
          "base_uri": "https://localhost:8080/",
          "height": 235
        },
        "id": "FReQ0pvrlPc-",
        "outputId": "d1535261-24b8-4c06-fe5a-9fec973faef3"
      },
      "source": [
        "test = df_final\n",
        "# Target column\n",
        "target_adj_close = pd.DataFrame(test['Close'])\n",
        "display(test.head())"
      ],
      "execution_count": 8,
      "outputs": [
        {
          "output_type": "display_data",
          "data": {
            "text/html": [
              "<div>\n",
              "<style scoped>\n",
              "    .dataframe tbody tr th:only-of-type {\n",
              "        vertical-align: middle;\n",
              "    }\n",
              "\n",
              "    .dataframe tbody tr th {\n",
              "        vertical-align: top;\n",
              "    }\n",
              "\n",
              "    .dataframe thead th {\n",
              "        text-align: right;\n",
              "    }\n",
              "</style>\n",
              "<table border=\"1\" class=\"dataframe\">\n",
              "  <thead>\n",
              "    <tr style=\"text-align: right;\">\n",
              "      <th></th>\n",
              "      <th>Symbol</th>\n",
              "      <th>Series</th>\n",
              "      <th>Prev Close</th>\n",
              "      <th>Open</th>\n",
              "      <th>High</th>\n",
              "      <th>Low</th>\n",
              "      <th>Last</th>\n",
              "      <th>Close</th>\n",
              "      <th>VWAP</th>\n",
              "      <th>Volume</th>\n",
              "      <th>Turnover</th>\n",
              "      <th>Trades</th>\n",
              "      <th>Deliverable Volume</th>\n",
              "      <th>%Deliverble</th>\n",
              "    </tr>\n",
              "    <tr>\n",
              "      <th>Date</th>\n",
              "      <th></th>\n",
              "      <th></th>\n",
              "      <th></th>\n",
              "      <th></th>\n",
              "      <th></th>\n",
              "      <th></th>\n",
              "      <th></th>\n",
              "      <th></th>\n",
              "      <th></th>\n",
              "      <th></th>\n",
              "      <th></th>\n",
              "      <th></th>\n",
              "      <th></th>\n",
              "      <th></th>\n",
              "    </tr>\n",
              "  </thead>\n",
              "  <tbody>\n",
              "    <tr>\n",
              "      <th>2000-01-03</th>\n",
              "      <td>CIPLA</td>\n",
              "      <td>EQ</td>\n",
              "      <td>1349.40</td>\n",
              "      <td>1410.0</td>\n",
              "      <td>1457.35</td>\n",
              "      <td>1380.05</td>\n",
              "      <td>1457.35</td>\n",
              "      <td>1457.35</td>\n",
              "      <td>1441.36</td>\n",
              "      <td>21060</td>\n",
              "      <td>3.035496e+12</td>\n",
              "      <td>NaN</td>\n",
              "      <td>NaN</td>\n",
              "      <td>NaN</td>\n",
              "    </tr>\n",
              "    <tr>\n",
              "      <th>2000-01-04</th>\n",
              "      <td>CIPLA</td>\n",
              "      <td>EQ</td>\n",
              "      <td>1457.35</td>\n",
              "      <td>1537.0</td>\n",
              "      <td>1537.00</td>\n",
              "      <td>1430.00</td>\n",
              "      <td>1466.05</td>\n",
              "      <td>1465.25</td>\n",
              "      <td>1460.43</td>\n",
              "      <td>30215</td>\n",
              "      <td>4.412698e+12</td>\n",
              "      <td>NaN</td>\n",
              "      <td>NaN</td>\n",
              "      <td>NaN</td>\n",
              "    </tr>\n",
              "    <tr>\n",
              "      <th>2000-01-05</th>\n",
              "      <td>CIPLA</td>\n",
              "      <td>EQ</td>\n",
              "      <td>1465.25</td>\n",
              "      <td>1474.0</td>\n",
              "      <td>1474.00</td>\n",
              "      <td>1365.00</td>\n",
              "      <td>1441.00</td>\n",
              "      <td>1435.05</td>\n",
              "      <td>1428.11</td>\n",
              "      <td>33799</td>\n",
              "      <td>4.826872e+12</td>\n",
              "      <td>NaN</td>\n",
              "      <td>NaN</td>\n",
              "      <td>NaN</td>\n",
              "    </tr>\n",
              "    <tr>\n",
              "      <th>2000-01-06</th>\n",
              "      <td>CIPLA</td>\n",
              "      <td>EQ</td>\n",
              "      <td>1435.05</td>\n",
              "      <td>1434.0</td>\n",
              "      <td>1435.00</td>\n",
              "      <td>1349.00</td>\n",
              "      <td>1365.00</td>\n",
              "      <td>1355.85</td>\n",
              "      <td>1390.55</td>\n",
              "      <td>33083</td>\n",
              "      <td>4.600356e+12</td>\n",
              "      <td>NaN</td>\n",
              "      <td>NaN</td>\n",
              "      <td>NaN</td>\n",
              "    </tr>\n",
              "    <tr>\n",
              "      <th>2000-01-07</th>\n",
              "      <td>CIPLA</td>\n",
              "      <td>EQ</td>\n",
              "      <td>1355.85</td>\n",
              "      <td>1370.0</td>\n",
              "      <td>1389.90</td>\n",
              "      <td>1247.40</td>\n",
              "      <td>1247.40</td>\n",
              "      <td>1247.55</td>\n",
              "      <td>1267.49</td>\n",
              "      <td>66536</td>\n",
              "      <td>8.433351e+12</td>\n",
              "      <td>NaN</td>\n",
              "      <td>NaN</td>\n",
              "      <td>NaN</td>\n",
              "    </tr>\n",
              "  </tbody>\n",
              "</table>\n",
              "</div>"
            ],
            "text/plain": [
              "           Symbol Series  Prev Close  ...  Trades  Deliverable Volume  %Deliverble\n",
              "Date                                  ...                                         \n",
              "2000-01-03  CIPLA     EQ     1349.40  ...     NaN                 NaN          NaN\n",
              "2000-01-04  CIPLA     EQ     1457.35  ...     NaN                 NaN          NaN\n",
              "2000-01-05  CIPLA     EQ     1465.25  ...     NaN                 NaN          NaN\n",
              "2000-01-06  CIPLA     EQ     1435.05  ...     NaN                 NaN          NaN\n",
              "2000-01-07  CIPLA     EQ     1355.85  ...     NaN                 NaN          NaN\n",
              "\n",
              "[5 rows x 14 columns]"
            ]
          },
          "metadata": {}
        }
      ]
    },
    {
      "cell_type": "code",
      "metadata": {
        "id": "JdBEmzsFlPc_"
      },
      "source": [
        "# selecting Feature Columns\n",
        "feature_columns = ['Open', 'High', 'Low', 'Volume']"
      ],
      "execution_count": 9,
      "outputs": []
    },
    {
      "cell_type": "markdown",
      "metadata": {
        "id": "gR1HW9GdlPdA"
      },
      "source": [
        "# Normalizing the data"
      ]
    },
    {
      "cell_type": "code",
      "metadata": {
        "colab": {
          "base_uri": "https://localhost:8080/",
          "height": 235
        },
        "id": "VgjJzr3SlPdA",
        "outputId": "65119ce3-2a8f-424d-a49c-8353b76afc14"
      },
      "source": [
        "from sklearn.preprocessing import MinMaxScaler\n",
        "scaler = MinMaxScaler()\n",
        "feature_minmax_transform_data = scaler.fit_transform(test[feature_columns])\n",
        "feature_minmax_transform = pd.DataFrame(columns=feature_columns, data=feature_minmax_transform_data, index=test.index)\n",
        "feature_minmax_transform.head()"
      ],
      "execution_count": 10,
      "outputs": [
        {
          "output_type": "execute_result",
          "data": {
            "text/html": [
              "<div>\n",
              "<style scoped>\n",
              "    .dataframe tbody tr th:only-of-type {\n",
              "        vertical-align: middle;\n",
              "    }\n",
              "\n",
              "    .dataframe tbody tr th {\n",
              "        vertical-align: top;\n",
              "    }\n",
              "\n",
              "    .dataframe thead th {\n",
              "        text-align: right;\n",
              "    }\n",
              "</style>\n",
              "<table border=\"1\" class=\"dataframe\">\n",
              "  <thead>\n",
              "    <tr style=\"text-align: right;\">\n",
              "      <th></th>\n",
              "      <th>Open</th>\n",
              "      <th>High</th>\n",
              "      <th>Low</th>\n",
              "      <th>Volume</th>\n",
              "    </tr>\n",
              "    <tr>\n",
              "      <th>Date</th>\n",
              "      <th></th>\n",
              "      <th></th>\n",
              "      <th></th>\n",
              "      <th></th>\n",
              "    </tr>\n",
              "  </thead>\n",
              "  <tbody>\n",
              "    <tr>\n",
              "      <th>2000-01-03</th>\n",
              "      <td>0.908399</td>\n",
              "      <td>0.941757</td>\n",
              "      <td>0.961128</td>\n",
              "      <td>0.000361</td>\n",
              "    </tr>\n",
              "    <tr>\n",
              "      <th>2000-01-04</th>\n",
              "      <td>1.000000</td>\n",
              "      <td>1.000000</td>\n",
              "      <td>1.000000</td>\n",
              "      <td>0.000522</td>\n",
              "    </tr>\n",
              "    <tr>\n",
              "      <th>2000-01-05</th>\n",
              "      <td>0.954560</td>\n",
              "      <td>0.953932</td>\n",
              "      <td>0.949416</td>\n",
              "      <td>0.000585</td>\n",
              "    </tr>\n",
              "    <tr>\n",
              "      <th>2000-01-06</th>\n",
              "      <td>0.925710</td>\n",
              "      <td>0.925414</td>\n",
              "      <td>0.936965</td>\n",
              "      <td>0.000573</td>\n",
              "    </tr>\n",
              "    <tr>\n",
              "      <th>2000-01-07</th>\n",
              "      <td>0.879548</td>\n",
              "      <td>0.892435</td>\n",
              "      <td>0.857899</td>\n",
              "      <td>0.001161</td>\n",
              "    </tr>\n",
              "  </tbody>\n",
              "</table>\n",
              "</div>"
            ],
            "text/plain": [
              "                Open      High       Low    Volume\n",
              "Date                                              \n",
              "2000-01-03  0.908399  0.941757  0.961128  0.000361\n",
              "2000-01-04  1.000000  1.000000  1.000000  0.000522\n",
              "2000-01-05  0.954560  0.953932  0.949416  0.000585\n",
              "2000-01-06  0.925710  0.925414  0.936965  0.000573\n",
              "2000-01-07  0.879548  0.892435  0.857899  0.001161"
            ]
          },
          "metadata": {},
          "execution_count": 10
        }
      ]
    },
    {
      "cell_type": "code",
      "metadata": {
        "colab": {
          "base_uri": "https://localhost:8080/",
          "height": 1000
        },
        "id": "b61gmPIVlPdA",
        "outputId": "ba88637c-089c-46e1-a1d3-15c4a12142f1"
      },
      "source": [
        "display(feature_minmax_transform.head())\n",
        "print('Shape of features : ', feature_minmax_transform.shape)\n",
        "print('Shape of target : ', target_adj_close.shape)\n",
        "\n",
        "# Shift target array because we want to predict the n + 1 day value\n",
        "\n",
        "\n",
        "target_adj_close = target_adj_close.shift(-1)\n",
        "validation_y = target_adj_close[-90:-1]\n",
        "target_adj_close = target_adj_close[:-90]\n",
        "\n",
        "# Taking last 90 rows of data to be validation set\n",
        "validation_X = feature_minmax_transform[-90:-1]\n",
        "feature_minmax_transform = feature_minmax_transform[:-90]\n",
        "display(validation_X.tail())\n",
        "display(validation_y.tail())\n",
        "\n",
        "print(\"\\n -----After process------ \\n\")\n",
        "print('Shape of features : ', feature_minmax_transform.shape)\n",
        "print('Shape of target : ', target_adj_close.shape)\n",
        "display(target_adj_close.tail())"
      ],
      "execution_count": 11,
      "outputs": [
        {
          "output_type": "display_data",
          "data": {
            "text/html": [
              "<div>\n",
              "<style scoped>\n",
              "    .dataframe tbody tr th:only-of-type {\n",
              "        vertical-align: middle;\n",
              "    }\n",
              "\n",
              "    .dataframe tbody tr th {\n",
              "        vertical-align: top;\n",
              "    }\n",
              "\n",
              "    .dataframe thead th {\n",
              "        text-align: right;\n",
              "    }\n",
              "</style>\n",
              "<table border=\"1\" class=\"dataframe\">\n",
              "  <thead>\n",
              "    <tr style=\"text-align: right;\">\n",
              "      <th></th>\n",
              "      <th>Open</th>\n",
              "      <th>High</th>\n",
              "      <th>Low</th>\n",
              "      <th>Volume</th>\n",
              "    </tr>\n",
              "    <tr>\n",
              "      <th>Date</th>\n",
              "      <th></th>\n",
              "      <th></th>\n",
              "      <th></th>\n",
              "      <th></th>\n",
              "    </tr>\n",
              "  </thead>\n",
              "  <tbody>\n",
              "    <tr>\n",
              "      <th>2000-01-03</th>\n",
              "      <td>0.908399</td>\n",
              "      <td>0.941757</td>\n",
              "      <td>0.961128</td>\n",
              "      <td>0.000361</td>\n",
              "    </tr>\n",
              "    <tr>\n",
              "      <th>2000-01-04</th>\n",
              "      <td>1.000000</td>\n",
              "      <td>1.000000</td>\n",
              "      <td>1.000000</td>\n",
              "      <td>0.000522</td>\n",
              "    </tr>\n",
              "    <tr>\n",
              "      <th>2000-01-05</th>\n",
              "      <td>0.954560</td>\n",
              "      <td>0.953932</td>\n",
              "      <td>0.949416</td>\n",
              "      <td>0.000585</td>\n",
              "    </tr>\n",
              "    <tr>\n",
              "      <th>2000-01-06</th>\n",
              "      <td>0.925710</td>\n",
              "      <td>0.925414</td>\n",
              "      <td>0.936965</td>\n",
              "      <td>0.000573</td>\n",
              "    </tr>\n",
              "    <tr>\n",
              "      <th>2000-01-07</th>\n",
              "      <td>0.879548</td>\n",
              "      <td>0.892435</td>\n",
              "      <td>0.857899</td>\n",
              "      <td>0.001161</td>\n",
              "    </tr>\n",
              "  </tbody>\n",
              "</table>\n",
              "</div>"
            ],
            "text/plain": [
              "                Open      High       Low    Volume\n",
              "Date                                              \n",
              "2000-01-03  0.908399  0.941757  0.961128  0.000361\n",
              "2000-01-04  1.000000  1.000000  1.000000  0.000522\n",
              "2000-01-05  0.954560  0.953932  0.949416  0.000585\n",
              "2000-01-06  0.925710  0.925414  0.936965  0.000573\n",
              "2000-01-07  0.879548  0.892435  0.857899  0.001161"
            ]
          },
          "metadata": {}
        },
        {
          "output_type": "stream",
          "name": "stdout",
          "text": [
            "Shape of features :  (5306, 4)\n",
            "Shape of target :  (5306, 1)\n"
          ]
        },
        {
          "output_type": "display_data",
          "data": {
            "text/html": [
              "<div>\n",
              "<style scoped>\n",
              "    .dataframe tbody tr th:only-of-type {\n",
              "        vertical-align: middle;\n",
              "    }\n",
              "\n",
              "    .dataframe tbody tr th {\n",
              "        vertical-align: top;\n",
              "    }\n",
              "\n",
              "    .dataframe thead th {\n",
              "        text-align: right;\n",
              "    }\n",
              "</style>\n",
              "<table border=\"1\" class=\"dataframe\">\n",
              "  <thead>\n",
              "    <tr style=\"text-align: right;\">\n",
              "      <th></th>\n",
              "      <th>Open</th>\n",
              "      <th>High</th>\n",
              "      <th>Low</th>\n",
              "      <th>Volume</th>\n",
              "    </tr>\n",
              "    <tr>\n",
              "      <th>Date</th>\n",
              "      <th></th>\n",
              "      <th></th>\n",
              "      <th></th>\n",
              "      <th></th>\n",
              "    </tr>\n",
              "  </thead>\n",
              "  <tbody>\n",
              "    <tr>\n",
              "      <th>2021-04-23</th>\n",
              "      <td>0.572541</td>\n",
              "      <td>0.572849</td>\n",
              "      <td>0.605253</td>\n",
              "      <td>0.140119</td>\n",
              "    </tr>\n",
              "    <tr>\n",
              "      <th>2021-04-26</th>\n",
              "      <td>0.566230</td>\n",
              "      <td>0.563453</td>\n",
              "      <td>0.589222</td>\n",
              "      <td>0.180247</td>\n",
              "    </tr>\n",
              "    <tr>\n",
              "      <th>2021-04-27</th>\n",
              "      <td>0.549930</td>\n",
              "      <td>0.548463</td>\n",
              "      <td>0.588327</td>\n",
              "      <td>0.099632</td>\n",
              "    </tr>\n",
              "    <tr>\n",
              "      <th>2021-04-28</th>\n",
              "      <td>0.550903</td>\n",
              "      <td>0.547366</td>\n",
              "      <td>0.589844</td>\n",
              "      <td>0.127436</td>\n",
              "    </tr>\n",
              "    <tr>\n",
              "      <th>2021-04-29</th>\n",
              "      <td>0.549172</td>\n",
              "      <td>0.546927</td>\n",
              "      <td>0.590661</td>\n",
              "      <td>0.087048</td>\n",
              "    </tr>\n",
              "  </tbody>\n",
              "</table>\n",
              "</div>"
            ],
            "text/plain": [
              "                Open      High       Low    Volume\n",
              "Date                                              \n",
              "2021-04-23  0.572541  0.572849  0.605253  0.140119\n",
              "2021-04-26  0.566230  0.563453  0.589222  0.180247\n",
              "2021-04-27  0.549930  0.548463  0.588327  0.099632\n",
              "2021-04-28  0.550903  0.547366  0.589844  0.127436\n",
              "2021-04-29  0.549172  0.546927  0.590661  0.087048"
            ]
          },
          "metadata": {}
        },
        {
          "output_type": "display_data",
          "data": {
            "text/html": [
              "<div>\n",
              "<style scoped>\n",
              "    .dataframe tbody tr th:only-of-type {\n",
              "        vertical-align: middle;\n",
              "    }\n",
              "\n",
              "    .dataframe tbody tr th {\n",
              "        vertical-align: top;\n",
              "    }\n",
              "\n",
              "    .dataframe thead th {\n",
              "        text-align: right;\n",
              "    }\n",
              "</style>\n",
              "<table border=\"1\" class=\"dataframe\">\n",
              "  <thead>\n",
              "    <tr style=\"text-align: right;\">\n",
              "      <th></th>\n",
              "      <th>Close</th>\n",
              "    </tr>\n",
              "    <tr>\n",
              "      <th>Date</th>\n",
              "      <th></th>\n",
              "    </tr>\n",
              "  </thead>\n",
              "  <tbody>\n",
              "    <tr>\n",
              "      <th>2021-04-23</th>\n",
              "      <td>905.40</td>\n",
              "    </tr>\n",
              "    <tr>\n",
              "      <th>2021-04-26</th>\n",
              "      <td>912.40</td>\n",
              "    </tr>\n",
              "    <tr>\n",
              "      <th>2021-04-27</th>\n",
              "      <td>910.20</td>\n",
              "    </tr>\n",
              "    <tr>\n",
              "      <th>2021-04-28</th>\n",
              "      <td>906.50</td>\n",
              "    </tr>\n",
              "    <tr>\n",
              "      <th>2021-04-29</th>\n",
              "      <td>910.35</td>\n",
              "    </tr>\n",
              "  </tbody>\n",
              "</table>\n",
              "</div>"
            ],
            "text/plain": [
              "             Close\n",
              "Date              \n",
              "2021-04-23  905.40\n",
              "2021-04-26  912.40\n",
              "2021-04-27  910.20\n",
              "2021-04-28  906.50\n",
              "2021-04-29  910.35"
            ]
          },
          "metadata": {}
        },
        {
          "output_type": "stream",
          "name": "stdout",
          "text": [
            "\n",
            " -----After process------ \n",
            "\n",
            "Shape of features :  (5216, 4)\n",
            "Shape of target :  (5216, 1)\n"
          ]
        },
        {
          "output_type": "display_data",
          "data": {
            "text/html": [
              "<div>\n",
              "<style scoped>\n",
              "    .dataframe tbody tr th:only-of-type {\n",
              "        vertical-align: middle;\n",
              "    }\n",
              "\n",
              "    .dataframe tbody tr th {\n",
              "        vertical-align: top;\n",
              "    }\n",
              "\n",
              "    .dataframe thead th {\n",
              "        text-align: right;\n",
              "    }\n",
              "</style>\n",
              "<table border=\"1\" class=\"dataframe\">\n",
              "  <thead>\n",
              "    <tr style=\"text-align: right;\">\n",
              "      <th></th>\n",
              "      <th>Close</th>\n",
              "    </tr>\n",
              "    <tr>\n",
              "      <th>Date</th>\n",
              "      <th></th>\n",
              "    </tr>\n",
              "  </thead>\n",
              "  <tbody>\n",
              "    <tr>\n",
              "      <th>2020-12-10</th>\n",
              "      <td>755.85</td>\n",
              "    </tr>\n",
              "    <tr>\n",
              "      <th>2020-12-11</th>\n",
              "      <td>789.30</td>\n",
              "    </tr>\n",
              "    <tr>\n",
              "      <th>2020-12-14</th>\n",
              "      <td>781.65</td>\n",
              "    </tr>\n",
              "    <tr>\n",
              "      <th>2020-12-15</th>\n",
              "      <td>786.80</td>\n",
              "    </tr>\n",
              "    <tr>\n",
              "      <th>2020-12-16</th>\n",
              "      <td>783.20</td>\n",
              "    </tr>\n",
              "  </tbody>\n",
              "</table>\n",
              "</div>"
            ],
            "text/plain": [
              "             Close\n",
              "Date              \n",
              "2020-12-10  755.85\n",
              "2020-12-11  789.30\n",
              "2020-12-14  781.65\n",
              "2020-12-15  786.80\n",
              "2020-12-16  783.20"
            ]
          },
          "metadata": {}
        }
      ]
    },
    {
      "cell_type": "markdown",
      "metadata": {
        "id": "EL9aoNwwlPdB"
      },
      "source": [
        "# Train test Split using Timeseriessplit"
      ]
    },
    {
      "cell_type": "code",
      "metadata": {
        "id": "yDAL7RAXlPdC"
      },
      "source": [
        "ts_split= TimeSeriesSplit(n_splits=5)\n",
        "for train_index, test_index in ts_split.split(feature_minmax_transform):\n",
        "        X_train, X_test = feature_minmax_transform[:len(train_index)], feature_minmax_transform[len(train_index): (len(train_index)+len(test_index))]\n",
        "        y_train, y_test = target_adj_close[:len(train_index)].values.ravel(), target_adj_close[len(train_index): (len(train_index)+len(test_index))].values.ravel()"
      ],
      "execution_count": 12,
      "outputs": []
    },
    {
      "cell_type": "code",
      "metadata": {
        "colab": {
          "base_uri": "https://localhost:8080/"
        },
        "id": "EHZuYvgMlPdC",
        "outputId": "21973452-9fee-40ee-b4d3-494b97a5e6a4"
      },
      "source": [
        "\n",
        "X_train.shape"
      ],
      "execution_count": 13,
      "outputs": [
        {
          "output_type": "execute_result",
          "data": {
            "text/plain": [
              "(4347, 4)"
            ]
          },
          "metadata": {},
          "execution_count": 13
        }
      ]
    },
    {
      "cell_type": "code",
      "metadata": {
        "colab": {
          "base_uri": "https://localhost:8080/"
        },
        "id": "CSVdhU4VlPdD",
        "outputId": "829b80ea-5623-4cd2-f76f-45bb95e7bc27"
      },
      "source": [
        "X_test.shape"
      ],
      "execution_count": 14,
      "outputs": [
        {
          "output_type": "execute_result",
          "data": {
            "text/plain": [
              "(869, 4)"
            ]
          },
          "metadata": {},
          "execution_count": 14
        }
      ]
    },
    {
      "cell_type": "code",
      "metadata": {
        "colab": {
          "base_uri": "https://localhost:8080/"
        },
        "id": "YNUK01yYlPdD",
        "outputId": "615790ee-b94c-467f-c1c3-a1fbb0898b55"
      },
      "source": [
        "y_train.shape"
      ],
      "execution_count": 15,
      "outputs": [
        {
          "output_type": "execute_result",
          "data": {
            "text/plain": [
              "(4347,)"
            ]
          },
          "metadata": {},
          "execution_count": 15
        }
      ]
    },
    {
      "cell_type": "code",
      "metadata": {
        "colab": {
          "base_uri": "https://localhost:8080/"
        },
        "id": "D1iALXdOlPdE",
        "outputId": "61781a3f-991f-4ba2-fced-7ab949ae49a9"
      },
      "source": [
        "y_test.shape"
      ],
      "execution_count": 16,
      "outputs": [
        {
          "output_type": "execute_result",
          "data": {
            "text/plain": [
              "(869,)"
            ]
          },
          "metadata": {},
          "execution_count": 16
        }
      ]
    },
    {
      "cell_type": "code",
      "metadata": {
        "id": "NwIgoDuNlPdE"
      },
      "source": [
        "def validate_result(model, model_name):\n",
        "    predicted = model.predict(validation_X)\n",
        "    RSME_score = np.sqrt(mean_squared_error(validation_y, predicted))\n",
        "    print('RMSE: ', RSME_score)\n",
        "    \n",
        "    R2_score = r2_score(validation_y, predicted)\n",
        "    print('R2 score: ', R2_score)\n",
        "\n",
        "    plt.plot(validation_y.index, predicted,'r', label='Predict')\n",
        "    plt.plot(validation_y.index, validation_y,'b', label='Actual')\n",
        "    plt.ylabel('Price')\n",
        "    plt.gca().xaxis.set_major_formatter(mdates.DateFormatter('%Y-%m-%d'))\n",
        "    plt.gca().xaxis.set_major_locator(mdates.MonthLocator())\n",
        "    plt.title(model_name + ' Predict vs Actual')\n",
        "    plt.legend(loc='upper right')\n",
        "    plt.show()"
      ],
      "execution_count": 17,
      "outputs": []
    },
    {
      "cell_type": "markdown",
      "metadata": {
        "id": "XgNRZR-qlPdF"
      },
      "source": [
        "# Benchmark Model"
      ]
    },
    {
      "cell_type": "code",
      "metadata": {
        "colab": {
          "base_uri": "https://localhost:8080/",
          "height": 315
        },
        "id": "mWv8oNFolPdF",
        "outputId": "1a47bd34-d9f3-4656-ff7f-4ed8403b3ff0"
      },
      "source": [
        "from sklearn.tree import DecisionTreeRegressor\n",
        "\n",
        "dt = DecisionTreeRegressor(random_state=0)\n",
        "\n",
        "benchmark_dt=dt.fit(X_train, y_train)\n",
        "\n",
        "validate_result(benchmark_dt, 'Decision Tree Regression')"
      ],
      "execution_count": 18,
      "outputs": [
        {
          "output_type": "stream",
          "name": "stdout",
          "text": [
            "RMSE:  34.962776755100066\n",
            "R2 score:  0.34769564626063665\n"
          ]
        },
        {
          "output_type": "display_data",
          "data": {
            "image/png": "[encoded data removed]",
            "text/plain": [
              "<Figure size 432x288 with 1 Axes>"
            ]
          },
          "metadata": {
            "needs_background": "light"
          }
        }
      ]
    },
    {
      "cell_type": "markdown",
      "metadata": {
        "id": "dlWShK1hlPdF"
      },
      "source": [
        "# Process the data for LSTM"
      ]
    },
    {
      "cell_type": "code",
      "metadata": {
        "id": "-XgoSbd5lPdF"
      },
      "source": [
        "X_train =np.array(X_train)\n",
        "X_test =np.array(X_test)\n",
        "\n",
        "X_tr_t = X_train.reshape(X_train.shape[0], 1, X_train.shape[1])\n",
        "X_tst_t = X_test.reshape(X_test.shape[0], 1, X_test.shape[1])"
      ],
      "execution_count": 19,
      "outputs": []
    },
    {
      "cell_type": "markdown",
      "metadata": {
        "id": "ex6U3OEclPdG"
      },
      "source": [
        "# Model building : LSTM"
      ]
    },
    {
      "cell_type": "code",
      "metadata": {
        "colab": {
          "base_uri": "https://localhost:8080/"
        },
        "id": "ULQqgQR9lPdG",
        "outputId": "47affa8a-c423-4b28-cbb1-5b7d50a25ba1"
      },
      "source": [
        "from keras.models import Sequential\n",
        "from keras.layers import Dense\n",
        "import keras.backend as K\n",
        "from keras.callbacks import EarlyStopping\n",
        "from keras.models import load_model\n",
        "from keras.layers import LSTM\n",
        "K.clear_session()\n",
        "model_lstm = Sequential()\n",
        "model_lstm.add(LSTM(16, input_shape=(1, X_train.shape[1]), activation='relu', return_sequences=False))\n",
        "model_lstm.add(Dense(1))\n",
        "model_lstm.compile(loss='mean_squared_error', optimizer='adam')\n",
        "early_stop = EarlyStopping(monitor='loss', patience=5, verbose=1)\n",
        "history_model_lstm = model_lstm.fit(X_tr_t, y_train, epochs=200, batch_size=8, verbose=1, shuffle=False, callbacks=[early_stop])"
      ],
      "execution_count": 20,
      "outputs": [
        {
          "output_type": "stream",
          "name": "stdout",
          "text": [
            "Epoch 1/200\n",
            "544/544 [==============================] - 3s 3ms/step - loss: 374491.0938\n",
            "Epoch 2/200\n",
            "544/544 [==============================] - 2s 3ms/step - loss: 361599.6562\n",
            "Epoch 3/200\n",
            "544/544 [==============================] - 1s 3ms/step - loss: 335857.7812\n",
            "Epoch 4/200\n",
            "544/544 [==============================] - 1s 2ms/step - loss: 302827.0312\n",
            "Epoch 5/200\n",
            "544/544 [==============================] - 1s 2ms/step - loss: 266369.4062\n",
            "Epoch 6/200\n",
            "544/544 [==============================] - 1s 2ms/step - loss: 228784.5156\n",
            "Epoch 7/200\n",
            "544/544 [==============================] - 1s 2ms/step - loss: 191849.4531\n",
            "Epoch 8/200\n",
            "544/544 [==============================] - 1s 2ms/step - loss: 157003.9219\n",
            "Epoch 9/200\n",
            "544/544 [==============================] - 1s 2ms/step - loss: 125385.1562\n",
            "Epoch 10/200\n",
            "544/544 [==============================] - 1s 2ms/step - loss: 97822.1250\n",
            "Epoch 11/200\n",
            "544/544 [==============================] - 1s 2ms/step - loss: 74811.7891\n",
            "Epoch 12/200\n",
            "544/544 [==============================] - 1s 2ms/step - loss: 56491.6680\n",
            "Epoch 13/200\n",
            "544/544 [==============================] - 1s 2ms/step - loss: 42622.5664\n",
            "Epoch 14/200\n",
            "544/544 [==============================] - 1s 2ms/step - loss: 32595.9707\n",
            "Epoch 15/200\n",
            "544/544 [==============================] - 1s 2ms/step - loss: 25485.7969\n",
            "Epoch 16/200\n",
            "544/544 [==============================] - 1s 2ms/step - loss: 20174.9160\n",
            "Epoch 17/200\n",
            "544/544 [==============================] - 1s 2ms/step - loss: 15641.1543\n",
            "Epoch 18/200\n",
            "544/544 [==============================] - 1s 2ms/step - loss: 11436.9160\n",
            "Epoch 19/200\n",
            "544/544 [==============================] - 1s 2ms/step - loss: 7736.1299\n",
            "Epoch 20/200\n",
            "544/544 [==============================] - 1s 2ms/step - loss: 4827.4146\n",
            "Epoch 21/200\n",
            "544/544 [==============================] - 1s 2ms/step - loss: 2842.3804\n",
            "Epoch 22/200\n",
            "544/544 [==============================] - 1s 2ms/step - loss: 1696.8689\n",
            "Epoch 23/200\n",
            "544/544 [==============================] - 1s 2ms/step - loss: 1140.0276\n",
            "Epoch 24/200\n",
            "544/544 [==============================] - 1s 3ms/step - loss: 898.6151\n",
            "Epoch 25/200\n",
            "544/544 [==============================] - 1s 3ms/step - loss: 792.2265\n",
            "Epoch 26/200\n",
            "544/544 [==============================] - 1s 3ms/step - loss: 737.2444\n",
            "Epoch 27/200\n",
            "544/544 [==============================] - 1s 2ms/step - loss: 702.4699\n",
            "Epoch 28/200\n",
            "544/544 [==============================] - 1s 3ms/step - loss: 677.7724\n",
            "Epoch 29/200\n",
            "544/544 [==============================] - 1s 2ms/step - loss: 659.7053\n",
            "Epoch 30/200\n",
            "544/544 [==============================] - 1s 2ms/step - loss: 646.5279\n",
            "Epoch 31/200\n",
            "544/544 [==============================] - 1s 3ms/step - loss: 636.9891\n",
            "Epoch 32/200\n",
            "544/544 [==============================] - 1s 3ms/step - loss: 630.1196\n",
            "Epoch 33/200\n",
            "544/544 [==============================] - 1s 3ms/step - loss: 625.1877\n",
            "Epoch 34/200\n",
            "544/544 [==============================] - 1s 2ms/step - loss: 621.6553\n",
            "Epoch 35/200\n",
            "544/544 [==============================] - 1s 2ms/step - loss: 619.1321\n",
            "Epoch 36/200\n",
            "544/544 [==============================] - 1s 3ms/step - loss: 617.3372\n",
            "Epoch 37/200\n",
            "544/544 [==============================] - 1s 2ms/step - loss: 616.0672\n",
            "Epoch 38/200\n",
            "544/544 [==============================] - 1s 2ms/step - loss: 615.1730\n",
            "Epoch 39/200\n",
            "544/544 [==============================] - 1s 2ms/step - loss: 614.5490\n",
            "Epoch 40/200\n",
            "544/544 [==============================] - 1s 3ms/step - loss: 614.1179\n",
            "Epoch 41/200\n",
            "544/544 [==============================] - 1s 3ms/step - loss: 613.8237\n",
            "Epoch 42/200\n",
            "544/544 [==============================] - 1s 3ms/step - loss: 613.6249\n",
            "Epoch 43/200\n",
            "544/544 [==============================] - 1s 2ms/step - loss: 613.4923\n",
            "Epoch 44/200\n",
            "544/544 [==============================] - 1s 3ms/step - loss: 613.4058\n",
            "Epoch 45/200\n",
            "544/544 [==============================] - 1s 2ms/step - loss: 613.3493\n",
            "Epoch 46/200\n",
            "544/544 [==============================] - 1s 3ms/step - loss: 613.3119\n",
            "Epoch 47/200\n",
            "544/544 [==============================] - 2s 3ms/step - loss: 613.2864\n",
            "Epoch 48/200\n",
            "544/544 [==============================] - 2s 3ms/step - loss: 613.2672\n",
            "Epoch 49/200\n",
            "544/544 [==============================] - 1s 3ms/step - loss: 613.2504\n",
            "Epoch 50/200\n",
            "544/544 [==============================] - 1s 3ms/step - loss: 613.2354\n",
            "Epoch 51/200\n",
            "544/544 [==============================] - 1s 3ms/step - loss: 613.2177\n",
            "Epoch 52/200\n",
            "544/544 [==============================] - 2s 3ms/step - loss: 613.1973\n",
            "Epoch 53/200\n",
            "544/544 [==============================] - 2s 3ms/step - loss: 613.1742\n",
            "Epoch 54/200\n",
            "544/544 [==============================] - 2s 3ms/step - loss: 613.1487\n",
            "Epoch 55/200\n",
            "544/544 [==============================] - 2s 3ms/step - loss: 613.1193\n",
            "Epoch 56/200\n",
            "544/544 [==============================] - 2s 3ms/step - loss: 613.0867\n",
            "Epoch 57/200\n",
            "544/544 [==============================] - 2s 3ms/step - loss: 613.0515\n",
            "Epoch 58/200\n",
            "544/544 [==============================] - 2s 3ms/step - loss: 613.0129\n",
            "Epoch 59/200\n",
            "544/544 [==============================] - 1s 3ms/step - loss: 612.9715\n",
            "Epoch 60/200\n",
            "544/544 [==============================] - 1s 3ms/step - loss: 612.9275\n",
            "Epoch 61/200\n",
            "544/544 [==============================] - 1s 3ms/step - loss: 612.8807\n",
            "Epoch 62/200\n",
            "544/544 [==============================] - 1s 3ms/step - loss: 612.8322\n",
            "Epoch 63/200\n",
            "544/544 [==============================] - 1s 3ms/step - loss: 612.7833\n",
            "Epoch 64/200\n",
            "544/544 [==============================] - 1s 3ms/step - loss: 612.7311\n",
            "Epoch 65/200\n",
            "544/544 [==============================] - 1s 3ms/step - loss: 612.6776\n",
            "Epoch 66/200\n",
            "544/544 [==============================] - 1s 3ms/step - loss: 612.6231\n",
            "Epoch 67/200\n",
            "544/544 [==============================] - 2s 3ms/step - loss: 612.5660\n",
            "Epoch 68/200\n",
            "544/544 [==============================] - 1s 3ms/step - loss: 612.5095\n",
            "Epoch 69/200\n",
            "544/544 [==============================] - 2s 3ms/step - loss: 612.4509\n",
            "Epoch 70/200\n",
            "544/544 [==============================] - 1s 3ms/step - loss: 612.3920\n",
            "Epoch 71/200\n",
            "544/544 [==============================] - 2s 3ms/step - loss: 612.3321\n",
            "Epoch 72/200\n",
            "544/544 [==============================] - 2s 3ms/step - loss: 612.2708\n",
            "Epoch 73/200\n",
            "544/544 [==============================] - 2s 3ms/step - loss: 612.2101\n",
            "Epoch 74/200\n",
            "544/544 [==============================] - 1s 3ms/step - loss: 612.1478\n",
            "Epoch 75/200\n",
            "544/544 [==============================] - 1s 3ms/step - loss: 612.0847\n",
            "Epoch 76/200\n",
            "544/544 [==============================] - 1s 3ms/step - loss: 612.0214\n",
            "Epoch 77/200\n",
            "544/544 [==============================] - 1s 3ms/step - loss: 611.9567\n",
            "Epoch 78/200\n",
            "544/544 [==============================] - 1s 3ms/step - loss: 611.8922\n",
            "Epoch 79/200\n",
            "544/544 [==============================] - 1s 3ms/step - loss: 611.8275\n",
            "Epoch 80/200\n",
            "544/544 [==============================] - 1s 3ms/step - loss: 611.7618\n",
            "Epoch 81/200\n",
            "544/544 [==============================] - 1s 3ms/step - loss: 611.6958\n",
            "Epoch 82/200\n",
            "544/544 [==============================] - 1s 2ms/step - loss: 611.6280\n",
            "Epoch 83/200\n",
            "544/544 [==============================] - 1s 3ms/step - loss: 611.5613\n",
            "Epoch 84/200\n",
            "544/544 [==============================] - 1s 3ms/step - loss: 611.4935\n",
            "Epoch 85/200\n",
            "544/544 [==============================] - 1s 2ms/step - loss: 611.4251\n",
            "Epoch 86/200\n",
            "544/544 [==============================] - 1s 2ms/step - loss: 611.3561\n",
            "Epoch 87/200\n",
            "544/544 [==============================] - 2s 3ms/step - loss: 611.2864\n",
            "Epoch 88/200\n",
            "544/544 [==============================] - 1s 3ms/step - loss: 611.2166\n",
            "Epoch 89/200\n",
            "544/544 [==============================] - 1s 2ms/step - loss: 611.1461\n",
            "Epoch 90/200\n",
            "544/544 [==============================] - 1s 2ms/step - loss: 611.0753\n",
            "Epoch 91/200\n",
            "544/544 [==============================] - 1s 3ms/step - loss: 611.0034\n",
            "Epoch 92/200\n",
            "544/544 [==============================] - 1s 2ms/step - loss: 610.9309\n",
            "Epoch 93/200\n",
            "544/544 [==============================] - 1s 2ms/step - loss: 610.8583\n",
            "Epoch 94/200\n",
            "544/544 [==============================] - 1s 3ms/step - loss: 610.7844\n",
            "Epoch 95/200\n",
            "544/544 [==============================] - 1s 3ms/step - loss: 610.7103\n",
            "Epoch 96/200\n",
            "544/544 [==============================] - 1s 3ms/step - loss: 610.6356\n",
            "Epoch 97/200\n",
            "544/544 [==============================] - 1s 3ms/step - loss: 610.5602\n",
            "Epoch 98/200\n",
            "544/544 [==============================] - 1s 3ms/step - loss: 610.4836\n",
            "Epoch 99/200\n",
            "544/544 [==============================] - 1s 3ms/step - loss: 610.4056\n",
            "Epoch 100/200\n",
            "544/544 [==============================] - 1s 3ms/step - loss: 610.3281\n",
            "Epoch 101/200\n",
            "544/544 [==============================] - 1s 2ms/step - loss: 610.2501\n",
            "Epoch 102/200\n",
            "544/544 [==============================] - 1s 2ms/step - loss: 610.1697\n",
            "Epoch 103/200\n",
            "544/544 [==============================] - 1s 2ms/step - loss: 610.0891\n",
            "Epoch 104/200\n",
            "544/544 [==============================] - 1s 2ms/step - loss: 610.0082\n",
            "Epoch 105/200\n",
            "544/544 [==============================] - 1s 2ms/step - loss: 609.9259\n",
            "Epoch 106/200\n",
            "544/544 [==============================] - 1s 2ms/step - loss: 609.8423\n",
            "Epoch 107/200\n",
            "544/544 [==============================] - 1s 2ms/step - loss: 609.7578\n",
            "Epoch 108/200\n",
            "544/544 [==============================] - 1s 2ms/step - loss: 609.6724\n",
            "Epoch 109/200\n",
            "544/544 [==============================] - 1s 3ms/step - loss: 609.5863\n",
            "Epoch 110/200\n",
            "544/544 [==============================] - 1s 3ms/step - loss: 609.4988\n",
            "Epoch 111/200\n",
            "544/544 [==============================] - 1s 2ms/step - loss: 609.4103\n",
            "Epoch 112/200\n",
            "544/544 [==============================] - 1s 3ms/step - loss: 609.3209\n",
            "Epoch 113/200\n",
            "544/544 [==============================] - 1s 3ms/step - loss: 609.2287\n",
            "Epoch 114/200\n",
            "544/544 [==============================] - 1s 2ms/step - loss: 609.1364\n",
            "Epoch 115/200\n",
            "544/544 [==============================] - 1s 3ms/step - loss: 609.0427\n",
            "Epoch 116/200\n",
            "544/544 [==============================] - 1s 2ms/step - loss: 608.9480\n",
            "Epoch 117/200\n",
            "544/544 [==============================] - 1s 3ms/step - loss: 608.8510\n",
            "Epoch 118/200\n",
            "544/544 [==============================] - 1s 3ms/step - loss: 608.7535\n",
            "Epoch 119/200\n",
            "544/544 [==============================] - 1s 3ms/step - loss: 608.6534\n",
            "Epoch 120/200\n",
            "544/544 [==============================] - 1s 2ms/step - loss: 608.5535\n",
            "Epoch 121/200\n",
            "544/544 [==============================] - 1s 2ms/step - loss: 608.4513\n",
            "Epoch 122/200\n",
            "544/544 [==============================] - 1s 2ms/step - loss: 608.3467\n",
            "Epoch 123/200\n",
            "544/544 [==============================] - 1s 3ms/step - loss: 608.2413\n",
            "Epoch 124/200\n",
            "544/544 [==============================] - 1s 3ms/step - loss: 608.1329\n",
            "Epoch 125/200\n",
            "544/544 [==============================] - 1s 3ms/step - loss: 608.0241\n",
            "Epoch 126/200\n",
            "544/544 [==============================] - 1s 3ms/step - loss: 607.9125\n",
            "Epoch 127/200\n",
            "544/544 [==============================] - 1s 2ms/step - loss: 607.7997\n",
            "Epoch 128/200\n",
            "544/544 [==============================] - 1s 3ms/step - loss: 607.6841\n",
            "Epoch 129/200\n",
            "544/544 [==============================] - 1s 3ms/step - loss: 607.5669\n",
            "Epoch 130/200\n",
            "544/544 [==============================] - 1s 3ms/step - loss: 607.4480\n",
            "Epoch 131/200\n",
            "544/544 [==============================] - 2s 3ms/step - loss: 607.3269\n",
            "Epoch 132/200\n",
            "544/544 [==============================] - 1s 3ms/step - loss: 607.2031\n",
            "Epoch 133/200\n",
            "544/544 [==============================] - 1s 3ms/step - loss: 607.0764\n",
            "Epoch 134/200\n",
            "544/544 [==============================] - 1s 2ms/step - loss: 606.9482\n",
            "Epoch 135/200\n",
            "544/544 [==============================] - 1s 2ms/step - loss: 606.8170\n",
            "Epoch 136/200\n",
            "544/544 [==============================] - 1s 2ms/step - loss: 606.6841\n",
            "Epoch 137/200\n",
            "544/544 [==============================] - 1s 2ms/step - loss: 606.5490\n",
            "Epoch 138/200\n",
            "544/544 [==============================] - 1s 3ms/step - loss: 606.4102\n",
            "Epoch 139/200\n",
            "544/544 [==============================] - 1s 3ms/step - loss: 606.2688\n",
            "Epoch 140/200\n",
            "544/544 [==============================] - 2s 3ms/step - loss: 606.1244\n",
            "Epoch 141/200\n",
            "544/544 [==============================] - 2s 3ms/step - loss: 605.9776\n",
            "Epoch 142/200\n",
            "544/544 [==============================] - 2s 3ms/step - loss: 605.8288\n",
            "Epoch 143/200\n",
            "544/544 [==============================] - 2s 3ms/step - loss: 605.6755\n",
            "Epoch 144/200\n",
            "544/544 [==============================] - 2s 3ms/step - loss: 605.5190\n",
            "Epoch 145/200\n",
            "544/544 [==============================] - 2s 3ms/step - loss: 605.3603\n",
            "Epoch 146/200\n",
            "544/544 [==============================] - 1s 3ms/step - loss: 605.1973\n",
            "Epoch 147/200\n",
            "544/544 [==============================] - 1s 3ms/step - loss: 605.0316\n",
            "Epoch 148/200\n",
            "544/544 [==============================] - 1s 2ms/step - loss: 604.8627\n",
            "Epoch 149/200\n",
            "544/544 [==============================] - 1s 2ms/step - loss: 604.6898\n",
            "Epoch 150/200\n",
            "544/544 [==============================] - 1s 2ms/step - loss: 604.5139\n",
            "Epoch 151/200\n",
            "544/544 [==============================] - 1s 3ms/step - loss: 604.3334\n",
            "Epoch 152/200\n",
            "544/544 [==============================] - 1s 3ms/step - loss: 604.1496\n",
            "Epoch 153/200\n",
            "544/544 [==============================] - 1s 2ms/step - loss: 603.9629\n",
            "Epoch 154/200\n",
            "544/544 [==============================] - 1s 2ms/step - loss: 603.7703\n",
            "Epoch 155/200\n",
            "544/544 [==============================] - 1s 2ms/step - loss: 603.5746\n",
            "Epoch 156/200\n",
            "544/544 [==============================] - 1s 2ms/step - loss: 603.3759\n",
            "Epoch 157/200\n",
            "544/544 [==============================] - 1s 2ms/step - loss: 603.1718\n",
            "Epoch 158/200\n",
            "544/544 [==============================] - 1s 2ms/step - loss: 602.9644\n",
            "Epoch 159/200\n",
            "544/544 [==============================] - 1s 3ms/step - loss: 602.7515\n",
            "Epoch 160/200\n",
            "544/544 [==============================] - 1s 3ms/step - loss: 602.5350\n",
            "Epoch 161/200\n",
            "544/544 [==============================] - 1s 3ms/step - loss: 602.3132\n",
            "Epoch 162/200\n",
            "544/544 [==============================] - 1s 2ms/step - loss: 602.0862\n",
            "Epoch 163/200\n",
            "544/544 [==============================] - 1s 3ms/step - loss: 601.8564\n",
            "Epoch 164/200\n",
            "544/544 [==============================] - 1s 2ms/step - loss: 601.6211\n",
            "Epoch 165/200\n",
            "544/544 [==============================] - 1s 2ms/step - loss: 601.3817\n",
            "Epoch 166/200\n",
            "544/544 [==============================] - 1s 2ms/step - loss: 601.1367\n",
            "Epoch 167/200\n",
            "544/544 [==============================] - 1s 2ms/step - loss: 600.8875\n",
            "Epoch 168/200\n",
            "544/544 [==============================] - 1s 2ms/step - loss: 600.6334\n",
            "Epoch 169/200\n",
            "544/544 [==============================] - 1s 3ms/step - loss: 600.3740\n",
            "Epoch 170/200\n",
            "544/544 [==============================] - 1s 2ms/step - loss: 600.1105\n",
            "Epoch 171/200\n",
            "544/544 [==============================] - 1s 2ms/step - loss: 599.8406\n",
            "Epoch 172/200\n",
            "544/544 [==============================] - 1s 2ms/step - loss: 599.5674\n",
            "Epoch 173/200\n",
            "544/544 [==============================] - 1s 2ms/step - loss: 599.2891\n",
            "Epoch 174/200\n",
            "544/544 [==============================] - 1s 3ms/step - loss: 599.0059\n",
            "Epoch 175/200\n",
            "544/544 [==============================] - 1s 2ms/step - loss: 598.7181\n",
            "Epoch 176/200\n",
            "544/544 [==============================] - 1s 2ms/step - loss: 598.4240\n",
            "Epoch 177/200\n",
            "544/544 [==============================] - 1s 2ms/step - loss: 598.1264\n",
            "Epoch 178/200\n",
            "544/544 [==============================] - 1s 2ms/step - loss: 597.8248\n",
            "Epoch 179/200\n",
            "544/544 [==============================] - 1s 2ms/step - loss: 597.5173\n",
            "Epoch 180/200\n",
            "544/544 [==============================] - 1s 3ms/step - loss: 597.2065\n",
            "Epoch 181/200\n",
            "544/544 [==============================] - 1s 3ms/step - loss: 596.8916\n",
            "Epoch 182/200\n",
            "544/544 [==============================] - 1s 3ms/step - loss: 596.5723\n",
            "Epoch 183/200\n",
            "544/544 [==============================] - 1s 3ms/step - loss: 596.2485\n",
            "Epoch 184/200\n",
            "544/544 [==============================] - 1s 3ms/step - loss: 595.9218\n",
            "Epoch 185/200\n",
            "544/544 [==============================] - 1s 3ms/step - loss: 595.5923\n",
            "Epoch 186/200\n",
            "544/544 [==============================] - 1s 2ms/step - loss: 595.2584\n",
            "Epoch 187/200\n",
            "544/544 [==============================] - 1s 2ms/step - loss: 594.9225\n",
            "Epoch 188/200\n",
            "544/544 [==============================] - 1s 3ms/step - loss: 594.5834\n",
            "Epoch 189/200\n",
            "544/544 [==============================] - 1s 2ms/step - loss: 594.2427\n",
            "Epoch 190/200\n",
            "544/544 [==============================] - 1s 2ms/step - loss: 593.8999\n",
            "Epoch 191/200\n",
            "544/544 [==============================] - 1s 2ms/step - loss: 593.5547\n",
            "Epoch 192/200\n",
            "544/544 [==============================] - 1s 2ms/step - loss: 593.2098\n",
            "Epoch 193/200\n",
            "544/544 [==============================] - 1s 2ms/step - loss: 592.8634\n",
            "Epoch 194/200\n",
            "544/544 [==============================] - 1s 2ms/step - loss: 592.5170\n",
            "Epoch 195/200\n",
            "544/544 [==============================] - 1s 2ms/step - loss: 592.1702\n",
            "Epoch 196/200\n",
            "544/544 [==============================] - 1s 3ms/step - loss: 591.8244\n",
            "Epoch 197/200\n",
            "544/544 [==============================] - 1s 3ms/step - loss: 591.4795\n",
            "Epoch 198/200\n",
            "544/544 [==============================] - 1s 2ms/step - loss: 591.1370\n",
            "Epoch 199/200\n",
            "544/544 [==============================] - 1s 2ms/step - loss: 590.7960\n",
            "Epoch 200/200\n",
            "544/544 [==============================] - 1s 2ms/step - loss: 590.4578\n"
          ]
        }
      ]
    },
    {
      "cell_type": "markdown",
      "metadata": {
        "id": "TqHTyfnClPdG"
      },
      "source": [
        "# Evaluation of Model"
      ]
    },
    {
      "cell_type": "code",
      "metadata": {
        "colab": {
          "base_uri": "https://localhost:8080/"
        },
        "id": "HPjj8z3klPdG",
        "outputId": "041ea940-d32b-4cbf-d8d3-aae95965e0e3"
      },
      "source": [
        "y_pred_test_lstm = model_lstm.predict(X_tst_t)\n",
        "y_train_pred_lstm = model_lstm.predict(X_tr_t)\n",
        "print(\"The R2 score on the Train set is:\\t{:0.3f}\".format(r2_score(y_train, y_train_pred_lstm)))\n",
        "r2_train = r2_score(y_train, y_train_pred_lstm)\n",
        "\n",
        "print(\"The R2 score on the Test set is:\\t{:0.3f}\".format(r2_score(y_test, y_pred_test_lstm)))\n",
        "r2_test = r2_score(y_test, y_pred_test_lstm)\n"
      ],
      "execution_count": 21,
      "outputs": [
        {
          "output_type": "stream",
          "name": "stdout",
          "text": [
            "The R2 score on the Train set is:\t0.994\n",
            "The R2 score on the Test set is:\t0.981\n"
          ]
        }
      ]
    },
    {
      "cell_type": "markdown",
      "metadata": {
        "id": "Xtpq7k48lPdG"
      },
      "source": [
        "## Predictions made by LSTM"
      ]
    },
    {
      "cell_type": "code",
      "metadata": {
        "colab": {
          "base_uri": "https://localhost:8080/"
        },
        "id": "C734g36KlPdH",
        "outputId": "ea48085c-d9f5-4586-d8cd-3c9b19773c57"
      },
      "source": [
        "score_lstm= model_lstm.evaluate(X_tst_t, y_test, batch_size=1)"
      ],
      "execution_count": 22,
      "outputs": [
        {
          "output_type": "stream",
          "name": "stdout",
          "text": [
            "869/869 [==============================] - 2s 1ms/step - loss: 157.6017\n"
          ]
        }
      ]
    },
    {
      "cell_type": "code",
      "metadata": {
        "colab": {
          "base_uri": "https://localhost:8080/"
        },
        "id": "pmjuOyIylPdH",
        "outputId": "707cda91-63ea-4ee6-d703-e59121d6ac73"
      },
      "source": [
        "print('LSTM: %f'%score_lstm)"
      ],
      "execution_count": 23,
      "outputs": [
        {
          "output_type": "stream",
          "name": "stdout",
          "text": [
            "LSTM: 157.601730\n"
          ]
        }
      ]
    },
    {
      "cell_type": "code",
      "metadata": {
        "id": "Wt-1Q6yFlPdH"
      },
      "source": [
        "y_pred_test_LSTM = model_lstm.predict(X_tst_t)"
      ],
      "execution_count": 24,
      "outputs": []
    },
    {
      "cell_type": "markdown",
      "metadata": {
        "id": "MiHT5P3DlPdH"
      },
      "source": [
        "# LSTM's Prediction Visual"
      ]
    },
    {
      "cell_type": "code",
      "metadata": {
        "colab": {
          "base_uri": "https://localhost:8080/",
          "height": 295
        },
        "id": "aIiJwZiAlPdI",
        "outputId": "a05d3ea7-6913-4de7-d977-a567b56c1471"
      },
      "source": [
        "plt.plot(y_test, label='True')\n",
        "plt.plot(y_pred_test_LSTM, label='LSTM')\n",
        "plt.title(\"LSTM's_Prediction\")\n",
        "plt.xlabel('Observation')\n",
        "plt.ylabel('INR_Scaled')\n",
        "plt.legend()\n",
        "plt.show()\n"
      ],
      "execution_count": 25,
      "outputs": [
        {
          "output_type": "display_data",
          "data": {
            "image/png": "[encoded data removed]",
            "text/plain": [
              "<Figure size 432x288 with 1 Axes>"
            ]
          },
          "metadata": {
            "needs_background": "light"
          }
        }
      ]
    }
  ]
}