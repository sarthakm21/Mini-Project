{
  "nbformat": 4,
  "nbformat_minor": 0,
  "metadata": {
    "colab": {
      "name": "CIPLA_Bidirectional.ipynb",
      "provenance": []
    },
    "kernelspec": {
      "display_name": "Python 3",
      "language": "python",
      "name": "python3"
    },
    "language_info": {
      "codemirror_mode": {
        "name": "ipython",
        "version": 3
      },
      "file_extension": ".py",
      "mimetype": "text/x-python",
      "name": "python",
      "nbconvert_exporter": "python",
      "pygments_lexer": "ipython3",
      "version": "3.6.5"
    }
  },
  "cells": [
    {
      "cell_type": "code",
      "metadata": {
        "colab": {
          "resources": {
            "http://localhost:8080/nbextensions/google.colab/files.js": {
              "data": "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",
              "ok": true,
              "headers": [
                [
                  "content-type",
                  "application/javascript"
                ]
              ],
              "status": 200,
              "status_text": ""
            }
          },
          "base_uri": "https://localhost:8080/",
          "height": 72
        },
        "id": "1348nQGCliNd",
        "outputId": "4f60454c-42b3-4959-ba87-7e724a729cc8"
      },
      "source": [
        "from google.colab import files\n",
        "uploaded = files.upload()"
      ],
      "execution_count": 1,
      "outputs": [
        {
          "output_type": "display_data",
          "data": {
            "text/html": [
              "\n",
              "     <input type=\"file\" id=\"files-c64f4274-927d-4632-831d-5ddb2d14d736\" name=\"files[]\" multiple disabled\n",
              "        style=\"border:none\" />\n",
              "     <output id=\"result-c64f4274-927d-4632-831d-5ddb2d14d736\">\n",
              "      Upload widget is only available when the cell has been executed in the\n",
              "      current browser session. Please rerun this cell to enable.\n",
              "      </output>\n",
              "      <script src=\"/nbextensions/google.colab/files.js\"></script> "
            ],
            "text/plain": [
              "<IPython.core.display.HTML object>"
            ]
          },
          "metadata": {}
        },
        {
          "output_type": "stream",
          "name": "stdout",
          "text": [
            "Saving CIPLA.csv to CIPLA.csv\n"
          ]
        }
      ]
    },
    {
      "cell_type": "code",
      "metadata": {
        "id": "y17UePwrlPcv"
      },
      "source": [
        "import pandas as pd\n",
        "import numpy as np\n",
        "%matplotlib inline\n",
        "import matplotlib.pyplot as plt\n",
        "import matplotlib\n",
        "from sklearn.preprocessing import MinMaxScaler\n",
        "from keras.layers import LSTM,Dense,Dropout\n",
        "from sklearn.model_selection import TimeSeriesSplit\n",
        "from sklearn.metrics import mean_squared_error, r2_score\n",
        "import matplotlib.dates as mdates\n",
        "from sklearn import linear_model\n"
      ],
      "execution_count": 47,
      "outputs": []
    },
    {
      "cell_type": "markdown",
      "metadata": {
        "id": "l6AAOVGxlPcy"
      },
      "source": [
        "# Reading data using parse date\n",
        "As it is timeseries data so we have to read the data by parsing date means making data column as index."
      ]
    },
    {
      "cell_type": "code",
      "metadata": {
        "id": "bb6ThUY3lPc0"
      },
      "source": [
        "df_final = pd.read_csv(\"CIPLA.csv\",na_values=['null'],index_col='Date',parse_dates=True,infer_datetime_format=True)"
      ],
      "execution_count": 48,
      "outputs": []
    },
    {
      "cell_type": "code",
      "metadata": {
        "colab": {
          "base_uri": "https://localhost:8080/",
          "height": 235
        },
        "id": "nFhSo0TglPc0",
        "outputId": "728c07b3-8c2f-4edd-d18c-65d648519065"
      },
      "source": [
        "df_final.head()"
      ],
      "execution_count": 49,
      "outputs": [
        {
          "output_type": "execute_result",
          "data": {
            "text/html": [
              "<div>\n",
              "<style scoped>\n",
              "    .dataframe tbody tr th:only-of-type {\n",
              "        vertical-align: middle;\n",
              "    }\n",
              "\n",
              "    .dataframe tbody tr th {\n",
              "        vertical-align: top;\n",
              "    }\n",
              "\n",
              "    .dataframe thead th {\n",
              "        text-align: right;\n",
              "    }\n",
              "</style>\n",
              "<table border=\"1\" class=\"dataframe\">\n",
              "  <thead>\n",
              "    <tr style=\"text-align: right;\">\n",
              "      <th></th>\n",
              "      <th>Symbol</th>\n",
              "      <th>Series</th>\n",
              "      <th>Prev Close</th>\n",
              "      <th>Open</th>\n",
              "      <th>High</th>\n",
              "      <th>Low</th>\n",
              "      <th>Last</th>\n",
              "      <th>Close</th>\n",
              "      <th>VWAP</th>\n",
              "      <th>Volume</th>\n",
              "      <th>Turnover</th>\n",
              "      <th>Trades</th>\n",
              "      <th>Deliverable Volume</th>\n",
              "      <th>%Deliverble</th>\n",
              "    </tr>\n",
              "    <tr>\n",
              "      <th>Date</th>\n",
              "      <th></th>\n",
              "      <th></th>\n",
              "      <th></th>\n",
              "      <th></th>\n",
              "      <th></th>\n",
              "      <th></th>\n",
              "      <th></th>\n",
              "      <th></th>\n",
              "      <th></th>\n",
              "      <th></th>\n",
              "      <th></th>\n",
              "      <th></th>\n",
              "      <th></th>\n",
              "      <th></th>\n",
              "    </tr>\n",
              "  </thead>\n",
              "  <tbody>\n",
              "    <tr>\n",
              "      <th>2000-01-03</th>\n",
              "      <td>CIPLA</td>\n",
              "      <td>EQ</td>\n",
              "      <td>1349.40</td>\n",
              "      <td>1410.0</td>\n",
              "      <td>1457.35</td>\n",
              "      <td>1380.05</td>\n",
              "      <td>1457.35</td>\n",
              "      <td>1457.35</td>\n",
              "      <td>1441.36</td>\n",
              "      <td>21060</td>\n",
              "      <td>3.035496e+12</td>\n",
              "      <td>NaN</td>\n",
              "      <td>NaN</td>\n",
              "      <td>NaN</td>\n",
              "    </tr>\n",
              "    <tr>\n",
              "      <th>2000-01-04</th>\n",
              "      <td>CIPLA</td>\n",
              "      <td>EQ</td>\n",
              "      <td>1457.35</td>\n",
              "      <td>1537.0</td>\n",
              "      <td>1537.00</td>\n",
              "      <td>1430.00</td>\n",
              "      <td>1466.05</td>\n",
              "      <td>1465.25</td>\n",
              "      <td>1460.43</td>\n",
              "      <td>30215</td>\n",
              "      <td>4.412698e+12</td>\n",
              "      <td>NaN</td>\n",
              "      <td>NaN</td>\n",
              "      <td>NaN</td>\n",
              "    </tr>\n",
              "    <tr>\n",
              "      <th>2000-01-05</th>\n",
              "      <td>CIPLA</td>\n",
              "      <td>EQ</td>\n",
              "      <td>1465.25</td>\n",
              "      <td>1474.0</td>\n",
              "      <td>1474.00</td>\n",
              "      <td>1365.00</td>\n",
              "      <td>1441.00</td>\n",
              "      <td>1435.05</td>\n",
              "      <td>1428.11</td>\n",
              "      <td>33799</td>\n",
              "      <td>4.826872e+12</td>\n",
              "      <td>NaN</td>\n",
              "      <td>NaN</td>\n",
              "      <td>NaN</td>\n",
              "    </tr>\n",
              "    <tr>\n",
              "      <th>2000-01-06</th>\n",
              "      <td>CIPLA</td>\n",
              "      <td>EQ</td>\n",
              "      <td>1435.05</td>\n",
              "      <td>1434.0</td>\n",
              "      <td>1435.00</td>\n",
              "      <td>1349.00</td>\n",
              "      <td>1365.00</td>\n",
              "      <td>1355.85</td>\n",
              "      <td>1390.55</td>\n",
              "      <td>33083</td>\n",
              "      <td>4.600356e+12</td>\n",
              "      <td>NaN</td>\n",
              "      <td>NaN</td>\n",
              "      <td>NaN</td>\n",
              "    </tr>\n",
              "    <tr>\n",
              "      <th>2000-01-07</th>\n",
              "      <td>CIPLA</td>\n",
              "      <td>EQ</td>\n",
              "      <td>1355.85</td>\n",
              "      <td>1370.0</td>\n",
              "      <td>1389.90</td>\n",
              "      <td>1247.40</td>\n",
              "      <td>1247.40</td>\n",
              "      <td>1247.55</td>\n",
              "      <td>1267.49</td>\n",
              "      <td>66536</td>\n",
              "      <td>8.433351e+12</td>\n",
              "      <td>NaN</td>\n",
              "      <td>NaN</td>\n",
              "      <td>NaN</td>\n",
              "    </tr>\n",
              "  </tbody>\n",
              "</table>\n",
              "</div>"
            ],
            "text/plain": [
              "           Symbol Series  Prev Close  ...  Trades  Deliverable Volume  %Deliverble\n",
              "Date                                  ...                                         \n",
              "2000-01-03  CIPLA     EQ     1349.40  ...     NaN                 NaN          NaN\n",
              "2000-01-04  CIPLA     EQ     1457.35  ...     NaN                 NaN          NaN\n",
              "2000-01-05  CIPLA     EQ     1465.25  ...     NaN                 NaN          NaN\n",
              "2000-01-06  CIPLA     EQ     1435.05  ...     NaN                 NaN          NaN\n",
              "2000-01-07  CIPLA     EQ     1355.85  ...     NaN                 NaN          NaN\n",
              "\n",
              "[5 rows x 14 columns]"
            ]
          },
          "metadata": {},
          "execution_count": 49
        }
      ]
    },
    {
      "cell_type": "code",
      "metadata": {
        "colab": {
          "base_uri": "https://localhost:8080/"
        },
        "id": "3TAadyfelPc3",
        "outputId": "eccd9845-89d2-4d92-c352-a05519039248"
      },
      "source": [
        "\n",
        "df_final.shape"
      ],
      "execution_count": 50,
      "outputs": [
        {
          "output_type": "execute_result",
          "data": {
            "text/plain": [
              "(5306, 14)"
            ]
          },
          "metadata": {},
          "execution_count": 50
        }
      ]
    },
    {
      "cell_type": "code",
      "metadata": {
        "colab": {
          "base_uri": "https://localhost:8080/",
          "height": 297
        },
        "id": "ufY2rv0ElPc4",
        "outputId": "b8f4fd8f-dac5-48d0-a000-c7cac6a7fba4"
      },
      "source": [
        "df_final.describe()"
      ],
      "execution_count": 51,
      "outputs": [
        {
          "output_type": "execute_result",
          "data": {
            "text/html": [
              "<div>\n",
              "<style scoped>\n",
              "    .dataframe tbody tr th:only-of-type {\n",
              "        vertical-align: middle;\n",
              "    }\n",
              "\n",
              "    .dataframe tbody tr th {\n",
              "        vertical-align: top;\n",
              "    }\n",
              "\n",
              "    .dataframe thead th {\n",
              "        text-align: right;\n",
              "    }\n",
              "</style>\n",
              "<table border=\"1\" class=\"dataframe\">\n",
              "  <thead>\n",
              "    <tr style=\"text-align: right;\">\n",
              "      <th></th>\n",
              "      <th>Prev Close</th>\n",
              "      <th>Open</th>\n",
              "      <th>High</th>\n",
              "      <th>Low</th>\n",
              "      <th>Last</th>\n",
              "      <th>Close</th>\n",
              "      <th>VWAP</th>\n",
              "      <th>Volume</th>\n",
              "      <th>Turnover</th>\n",
              "      <th>Trades</th>\n",
              "      <th>Deliverable Volume</th>\n",
              "      <th>%Deliverble</th>\n",
              "    </tr>\n",
              "  </thead>\n",
              "  <tbody>\n",
              "    <tr>\n",
              "      <th>count</th>\n",
              "      <td>5306.000000</td>\n",
              "      <td>5306.000000</td>\n",
              "      <td>5306.000000</td>\n",
              "      <td>5306.000000</td>\n",
              "      <td>5306.000000</td>\n",
              "      <td>5306.000000</td>\n",
              "      <td>5306.000000</td>\n",
              "      <td>5.306000e+03</td>\n",
              "      <td>5.306000e+03</td>\n",
              "      <td>2456.000000</td>\n",
              "      <td>4.792000e+03</td>\n",
              "      <td>4792.000000</td>\n",
              "    </tr>\n",
              "    <tr>\n",
              "      <th>mean</th>\n",
              "      <td>540.503798</td>\n",
              "      <td>541.457755</td>\n",
              "      <td>549.587693</td>\n",
              "      <td>532.143583</td>\n",
              "      <td>540.472588</td>\n",
              "      <td>540.421052</td>\n",
              "      <td>540.931589</td>\n",
              "      <td>1.550071e+06</td>\n",
              "      <td>7.841696e+13</td>\n",
              "      <td>44967.250407</td>\n",
              "      <td>7.408486e+05</td>\n",
              "      <td>0.509209</td>\n",
              "    </tr>\n",
              "    <tr>\n",
              "      <th>std</th>\n",
              "      <td>289.319810</td>\n",
              "      <td>289.955959</td>\n",
              "      <td>295.087710</td>\n",
              "      <td>283.868905</td>\n",
              "      <td>289.158087</td>\n",
              "      <td>289.151156</td>\n",
              "      <td>289.411215</td>\n",
              "      <td>2.317962e+06</td>\n",
              "      <td>1.620908e+14</td>\n",
              "      <td>43776.047324</td>\n",
              "      <td>7.339493e+05</td>\n",
              "      <td>0.154639</td>\n",
              "    </tr>\n",
              "    <tr>\n",
              "      <th>min</th>\n",
              "      <td>160.100000</td>\n",
              "      <td>150.550000</td>\n",
              "      <td>169.450000</td>\n",
              "      <td>145.000000</td>\n",
              "      <td>152.000000</td>\n",
              "      <td>160.100000</td>\n",
              "      <td>158.140000</td>\n",
              "      <td>5.050000e+02</td>\n",
              "      <td>5.400606e+10</td>\n",
              "      <td>613.000000</td>\n",
              "      <td>2.013000e+03</td>\n",
              "      <td>0.069300</td>\n",
              "    </tr>\n",
              "    <tr>\n",
              "      <th>25%</th>\n",
              "      <td>309.025000</td>\n",
              "      <td>309.962500</td>\n",
              "      <td>312.750000</td>\n",
              "      <td>305.350000</td>\n",
              "      <td>309.000000</td>\n",
              "      <td>309.025000</td>\n",
              "      <td>309.290000</td>\n",
              "      <td>3.790408e+05</td>\n",
              "      <td>1.447839e+13</td>\n",
              "      <td>21724.000000</td>\n",
              "      <td>2.831312e+05</td>\n",
              "      <td>0.404575</td>\n",
              "    </tr>\n",
              "    <tr>\n",
              "      <th>50%</th>\n",
              "      <td>473.850000</td>\n",
              "      <td>474.625000</td>\n",
              "      <td>479.950000</td>\n",
              "      <td>468.875000</td>\n",
              "      <td>473.525000</td>\n",
              "      <td>473.850000</td>\n",
              "      <td>475.215000</td>\n",
              "      <td>1.047786e+06</td>\n",
              "      <td>3.725861e+13</td>\n",
              "      <td>32967.000000</td>\n",
              "      <td>5.787145e+05</td>\n",
              "      <td>0.516650</td>\n",
              "    </tr>\n",
              "    <tr>\n",
              "      <th>75%</th>\n",
              "      <td>681.937500</td>\n",
              "      <td>683.225000</td>\n",
              "      <td>691.787500</td>\n",
              "      <td>671.675000</td>\n",
              "      <td>681.937500</td>\n",
              "      <td>681.937500</td>\n",
              "      <td>682.035000</td>\n",
              "      <td>1.815542e+06</td>\n",
              "      <td>7.848478e+13</td>\n",
              "      <td>50869.500000</td>\n",
              "      <td>9.761000e+05</td>\n",
              "      <td>0.615125</td>\n",
              "    </tr>\n",
              "    <tr>\n",
              "      <th>max</th>\n",
              "      <td>1465.250000</td>\n",
              "      <td>1537.000000</td>\n",
              "      <td>1537.000000</td>\n",
              "      <td>1430.000000</td>\n",
              "      <td>1466.050000</td>\n",
              "      <td>1465.250000</td>\n",
              "      <td>1460.430000</td>\n",
              "      <td>5.689556e+07</td>\n",
              "      <td>4.498902e+15</td>\n",
              "      <td>603361.000000</td>\n",
              "      <td>1.081558e+07</td>\n",
              "      <td>0.994500</td>\n",
              "    </tr>\n",
              "  </tbody>\n",
              "</table>\n",
              "</div>"
            ],
            "text/plain": [
              "        Prev Close         Open  ...  Deliverable Volume  %Deliverble\n",
              "count  5306.000000  5306.000000  ...        4.792000e+03  4792.000000\n",
              "mean    540.503798   541.457755  ...        7.408486e+05     0.509209\n",
              "std     289.319810   289.955959  ...        7.339493e+05     0.154639\n",
              "min     160.100000   150.550000  ...        2.013000e+03     0.069300\n",
              "25%     309.025000   309.962500  ...        2.831312e+05     0.404575\n",
              "50%     473.850000   474.625000  ...        5.787145e+05     0.516650\n",
              "75%     681.937500   683.225000  ...        9.761000e+05     0.615125\n",
              "max    1465.250000  1537.000000  ...        1.081558e+07     0.994500\n",
              "\n",
              "[8 rows x 12 columns]"
            ]
          },
          "metadata": {},
          "execution_count": 51
        }
      ]
    },
    {
      "cell_type": "code",
      "metadata": {
        "colab": {
          "base_uri": "https://localhost:8080/"
        },
        "id": "H2nvwnJqlPc5",
        "outputId": "757d2a9a-cb56-4290-8167-c79415015701"
      },
      "source": [
        "df_final.isnull().values.any()"
      ],
      "execution_count": 52,
      "outputs": [
        {
          "output_type": "execute_result",
          "data": {
            "text/plain": [
              "True"
            ]
          },
          "metadata": {},
          "execution_count": 52
        }
      ]
    },
    {
      "cell_type": "code",
      "metadata": {
        "colab": {
          "base_uri": "https://localhost:8080/",
          "height": 235
        },
        "id": "FReQ0pvrlPc-",
        "outputId": "336df936-d796-49c4-99bb-263b901793b3"
      },
      "source": [
        "test = df_final\n",
        "# Target column\n",
        "target_adj_close = pd.DataFrame(test['Close'])\n",
        "display(test.head())"
      ],
      "execution_count": 53,
      "outputs": [
        {
          "output_type": "display_data",
          "data": {
            "text/html": [
              "<div>\n",
              "<style scoped>\n",
              "    .dataframe tbody tr th:only-of-type {\n",
              "        vertical-align: middle;\n",
              "    }\n",
              "\n",
              "    .dataframe tbody tr th {\n",
              "        vertical-align: top;\n",
              "    }\n",
              "\n",
              "    .dataframe thead th {\n",
              "        text-align: right;\n",
              "    }\n",
              "</style>\n",
              "<table border=\"1\" class=\"dataframe\">\n",
              "  <thead>\n",
              "    <tr style=\"text-align: right;\">\n",
              "      <th></th>\n",
              "      <th>Symbol</th>\n",
              "      <th>Series</th>\n",
              "      <th>Prev Close</th>\n",
              "      <th>Open</th>\n",
              "      <th>High</th>\n",
              "      <th>Low</th>\n",
              "      <th>Last</th>\n",
              "      <th>Close</th>\n",
              "      <th>VWAP</th>\n",
              "      <th>Volume</th>\n",
              "      <th>Turnover</th>\n",
              "      <th>Trades</th>\n",
              "      <th>Deliverable Volume</th>\n",
              "      <th>%Deliverble</th>\n",
              "    </tr>\n",
              "    <tr>\n",
              "      <th>Date</th>\n",
              "      <th></th>\n",
              "      <th></th>\n",
              "      <th></th>\n",
              "      <th></th>\n",
              "      <th></th>\n",
              "      <th></th>\n",
              "      <th></th>\n",
              "      <th></th>\n",
              "      <th></th>\n",
              "      <th></th>\n",
              "      <th></th>\n",
              "      <th></th>\n",
              "      <th></th>\n",
              "      <th></th>\n",
              "    </tr>\n",
              "  </thead>\n",
              "  <tbody>\n",
              "    <tr>\n",
              "      <th>2000-01-03</th>\n",
              "      <td>CIPLA</td>\n",
              "      <td>EQ</td>\n",
              "      <td>1349.40</td>\n",
              "      <td>1410.0</td>\n",
              "      <td>1457.35</td>\n",
              "      <td>1380.05</td>\n",
              "      <td>1457.35</td>\n",
              "      <td>1457.35</td>\n",
              "      <td>1441.36</td>\n",
              "      <td>21060</td>\n",
              "      <td>3.035496e+12</td>\n",
              "      <td>NaN</td>\n",
              "      <td>NaN</td>\n",
              "      <td>NaN</td>\n",
              "    </tr>\n",
              "    <tr>\n",
              "      <th>2000-01-04</th>\n",
              "      <td>CIPLA</td>\n",
              "      <td>EQ</td>\n",
              "      <td>1457.35</td>\n",
              "      <td>1537.0</td>\n",
              "      <td>1537.00</td>\n",
              "      <td>1430.00</td>\n",
              "      <td>1466.05</td>\n",
              "      <td>1465.25</td>\n",
              "      <td>1460.43</td>\n",
              "      <td>30215</td>\n",
              "      <td>4.412698e+12</td>\n",
              "      <td>NaN</td>\n",
              "      <td>NaN</td>\n",
              "      <td>NaN</td>\n",
              "    </tr>\n",
              "    <tr>\n",
              "      <th>2000-01-05</th>\n",
              "      <td>CIPLA</td>\n",
              "      <td>EQ</td>\n",
              "      <td>1465.25</td>\n",
              "      <td>1474.0</td>\n",
              "      <td>1474.00</td>\n",
              "      <td>1365.00</td>\n",
              "      <td>1441.00</td>\n",
              "      <td>1435.05</td>\n",
              "      <td>1428.11</td>\n",
              "      <td>33799</td>\n",
              "      <td>4.826872e+12</td>\n",
              "      <td>NaN</td>\n",
              "      <td>NaN</td>\n",
              "      <td>NaN</td>\n",
              "    </tr>\n",
              "    <tr>\n",
              "      <th>2000-01-06</th>\n",
              "      <td>CIPLA</td>\n",
              "      <td>EQ</td>\n",
              "      <td>1435.05</td>\n",
              "      <td>1434.0</td>\n",
              "      <td>1435.00</td>\n",
              "      <td>1349.00</td>\n",
              "      <td>1365.00</td>\n",
              "      <td>1355.85</td>\n",
              "      <td>1390.55</td>\n",
              "      <td>33083</td>\n",
              "      <td>4.600356e+12</td>\n",
              "      <td>NaN</td>\n",
              "      <td>NaN</td>\n",
              "      <td>NaN</td>\n",
              "    </tr>\n",
              "    <tr>\n",
              "      <th>2000-01-07</th>\n",
              "      <td>CIPLA</td>\n",
              "      <td>EQ</td>\n",
              "      <td>1355.85</td>\n",
              "      <td>1370.0</td>\n",
              "      <td>1389.90</td>\n",
              "      <td>1247.40</td>\n",
              "      <td>1247.40</td>\n",
              "      <td>1247.55</td>\n",
              "      <td>1267.49</td>\n",
              "      <td>66536</td>\n",
              "      <td>8.433351e+12</td>\n",
              "      <td>NaN</td>\n",
              "      <td>NaN</td>\n",
              "      <td>NaN</td>\n",
              "    </tr>\n",
              "  </tbody>\n",
              "</table>\n",
              "</div>"
            ],
            "text/plain": [
              "           Symbol Series  Prev Close  ...  Trades  Deliverable Volume  %Deliverble\n",
              "Date                                  ...                                         \n",
              "2000-01-03  CIPLA     EQ     1349.40  ...     NaN                 NaN          NaN\n",
              "2000-01-04  CIPLA     EQ     1457.35  ...     NaN                 NaN          NaN\n",
              "2000-01-05  CIPLA     EQ     1465.25  ...     NaN                 NaN          NaN\n",
              "2000-01-06  CIPLA     EQ     1435.05  ...     NaN                 NaN          NaN\n",
              "2000-01-07  CIPLA     EQ     1355.85  ...     NaN                 NaN          NaN\n",
              "\n",
              "[5 rows x 14 columns]"
            ]
          },
          "metadata": {}
        }
      ]
    },
    {
      "cell_type": "code",
      "metadata": {
        "id": "JdBEmzsFlPc_"
      },
      "source": [
        "# selecting Feature Columns\n",
        "feature_columns = ['Open', 'High', 'Low', 'Volume']"
      ],
      "execution_count": 54,
      "outputs": []
    },
    {
      "cell_type": "markdown",
      "metadata": {
        "id": "gR1HW9GdlPdA"
      },
      "source": [
        "# Normalizing the data"
      ]
    },
    {
      "cell_type": "code",
      "metadata": {
        "colab": {
          "base_uri": "https://localhost:8080/",
          "height": 235
        },
        "id": "VgjJzr3SlPdA",
        "outputId": "da12753c-e425-4465-cd2b-4f0938b7ab12"
      },
      "source": [
        "from sklearn.preprocessing import MinMaxScaler\n",
        "scaler = MinMaxScaler()\n",
        "feature_minmax_transform_data = scaler.fit_transform(test[feature_columns])\n",
        "feature_minmax_transform = pd.DataFrame(columns=feature_columns, data=feature_minmax_transform_data, index=test.index)\n",
        "feature_minmax_transform.head()"
      ],
      "execution_count": 55,
      "outputs": [
        {
          "output_type": "execute_result",
          "data": {
            "text/html": [
              "<div>\n",
              "<style scoped>\n",
              "    .dataframe tbody tr th:only-of-type {\n",
              "        vertical-align: middle;\n",
              "    }\n",
              "\n",
              "    .dataframe tbody tr th {\n",
              "        vertical-align: top;\n",
              "    }\n",
              "\n",
              "    .dataframe thead th {\n",
              "        text-align: right;\n",
              "    }\n",
              "</style>\n",
              "<table border=\"1\" class=\"dataframe\">\n",
              "  <thead>\n",
              "    <tr style=\"text-align: right;\">\n",
              "      <th></th>\n",
              "      <th>Open</th>\n",
              "      <th>High</th>\n",
              "      <th>Low</th>\n",
              "      <th>Volume</th>\n",
              "    </tr>\n",
              "    <tr>\n",
              "      <th>Date</th>\n",
              "      <th></th>\n",
              "      <th></th>\n",
              "      <th></th>\n",
              "      <th></th>\n",
              "    </tr>\n",
              "  </thead>\n",
              "  <tbody>\n",
              "    <tr>\n",
              "      <th>2000-01-03</th>\n",
              "      <td>0.908399</td>\n",
              "      <td>0.941757</td>\n",
              "      <td>0.961128</td>\n",
              "      <td>0.000361</td>\n",
              "    </tr>\n",
              "    <tr>\n",
              "      <th>2000-01-04</th>\n",
              "      <td>1.000000</td>\n",
              "      <td>1.000000</td>\n",
              "      <td>1.000000</td>\n",
              "      <td>0.000522</td>\n",
              "    </tr>\n",
              "    <tr>\n",
              "      <th>2000-01-05</th>\n",
              "      <td>0.954560</td>\n",
              "      <td>0.953932</td>\n",
              "      <td>0.949416</td>\n",
              "      <td>0.000585</td>\n",
              "    </tr>\n",
              "    <tr>\n",
              "      <th>2000-01-06</th>\n",
              "      <td>0.925710</td>\n",
              "      <td>0.925414</td>\n",
              "      <td>0.936965</td>\n",
              "      <td>0.000573</td>\n",
              "    </tr>\n",
              "    <tr>\n",
              "      <th>2000-01-07</th>\n",
              "      <td>0.879548</td>\n",
              "      <td>0.892435</td>\n",
              "      <td>0.857899</td>\n",
              "      <td>0.001161</td>\n",
              "    </tr>\n",
              "  </tbody>\n",
              "</table>\n",
              "</div>"
            ],
            "text/plain": [
              "                Open      High       Low    Volume\n",
              "Date                                              \n",
              "2000-01-03  0.908399  0.941757  0.961128  0.000361\n",
              "2000-01-04  1.000000  1.000000  1.000000  0.000522\n",
              "2000-01-05  0.954560  0.953932  0.949416  0.000585\n",
              "2000-01-06  0.925710  0.925414  0.936965  0.000573\n",
              "2000-01-07  0.879548  0.892435  0.857899  0.001161"
            ]
          },
          "metadata": {},
          "execution_count": 55
        }
      ]
    },
    {
      "cell_type": "code",
      "metadata": {
        "colab": {
          "base_uri": "https://localhost:8080/",
          "height": 1000
        },
        "id": "b61gmPIVlPdA",
        "outputId": "f328868d-f377-46b1-cf41-9a00ed7c228b"
      },
      "source": [
        "display(feature_minmax_transform.head())\n",
        "print('Shape of features : ', feature_minmax_transform.shape)\n",
        "print('Shape of target : ', target_adj_close.shape)\n",
        "\n",
        "# Shift target array because we want to predict the n + 1 day value\n",
        "\n",
        "\n",
        "target_adj_close = target_adj_close.shift(-1)\n",
        "validation_y = target_adj_close[-90:-1]\n",
        "target_adj_close = target_adj_close[:-90]\n",
        "\n",
        "# Taking last 90 rows of data to be validation set\n",
        "validation_X = feature_minmax_transform[-90:-1]\n",
        "feature_minmax_transform = feature_minmax_transform[:-90]\n",
        "display(validation_X.tail())\n",
        "display(validation_y.tail())\n",
        "\n",
        "print(\"\\n -----After process------ \\n\")\n",
        "print('Shape of features : ', feature_minmax_transform.shape)\n",
        "print('Shape of target : ', target_adj_close.shape)\n",
        "display(target_adj_close.tail())"
      ],
      "execution_count": 56,
      "outputs": [
        {
          "output_type": "display_data",
          "data": {
            "text/html": [
              "<div>\n",
              "<style scoped>\n",
              "    .dataframe tbody tr th:only-of-type {\n",
              "        vertical-align: middle;\n",
              "    }\n",
              "\n",
              "    .dataframe tbody tr th {\n",
              "        vertical-align: top;\n",
              "    }\n",
              "\n",
              "    .dataframe thead th {\n",
              "        text-align: right;\n",
              "    }\n",
              "</style>\n",
              "<table border=\"1\" class=\"dataframe\">\n",
              "  <thead>\n",
              "    <tr style=\"text-align: right;\">\n",
              "      <th></th>\n",
              "      <th>Open</th>\n",
              "      <th>High</th>\n",
              "      <th>Low</th>\n",
              "      <th>Volume</th>\n",
              "    </tr>\n",
              "    <tr>\n",
              "      <th>Date</th>\n",
              "      <th></th>\n",
              "      <th></th>\n",
              "      <th></th>\n",
              "      <th></th>\n",
              "    </tr>\n",
              "  </thead>\n",
              "  <tbody>\n",
              "    <tr>\n",
              "      <th>2000-01-03</th>\n",
              "      <td>0.908399</td>\n",
              "      <td>0.941757</td>\n",
              "      <td>0.961128</td>\n",
              "      <td>0.000361</td>\n",
              "    </tr>\n",
              "    <tr>\n",
              "      <th>2000-01-04</th>\n",
              "      <td>1.000000</td>\n",
              "      <td>1.000000</td>\n",
              "      <td>1.000000</td>\n",
              "      <td>0.000522</td>\n",
              "    </tr>\n",
              "    <tr>\n",
              "      <th>2000-01-05</th>\n",
              "      <td>0.954560</td>\n",
              "      <td>0.953932</td>\n",
              "      <td>0.949416</td>\n",
              "      <td>0.000585</td>\n",
              "    </tr>\n",
              "    <tr>\n",
              "      <th>2000-01-06</th>\n",
              "      <td>0.925710</td>\n",
              "      <td>0.925414</td>\n",
              "      <td>0.936965</td>\n",
              "      <td>0.000573</td>\n",
              "    </tr>\n",
              "    <tr>\n",
              "      <th>2000-01-07</th>\n",
              "      <td>0.879548</td>\n",
              "      <td>0.892435</td>\n",
              "      <td>0.857899</td>\n",
              "      <td>0.001161</td>\n",
              "    </tr>\n",
              "  </tbody>\n",
              "</table>\n",
              "</div>"
            ],
            "text/plain": [
              "                Open      High       Low    Volume\n",
              "Date                                              \n",
              "2000-01-03  0.908399  0.941757  0.961128  0.000361\n",
              "2000-01-04  1.000000  1.000000  1.000000  0.000522\n",
              "2000-01-05  0.954560  0.953932  0.949416  0.000585\n",
              "2000-01-06  0.925710  0.925414  0.936965  0.000573\n",
              "2000-01-07  0.879548  0.892435  0.857899  0.001161"
            ]
          },
          "metadata": {}
        },
        {
          "output_type": "stream",
          "name": "stdout",
          "text": [
            "Shape of features :  (5306, 4)\n",
            "Shape of target :  (5306, 1)\n"
          ]
        },
        {
          "output_type": "display_data",
          "data": {
            "text/html": [
              "<div>\n",
              "<style scoped>\n",
              "    .dataframe tbody tr th:only-of-type {\n",
              "        vertical-align: middle;\n",
              "    }\n",
              "\n",
              "    .dataframe tbody tr th {\n",
              "        vertical-align: top;\n",
              "    }\n",
              "\n",
              "    .dataframe thead th {\n",
              "        text-align: right;\n",
              "    }\n",
              "</style>\n",
              "<table border=\"1\" class=\"dataframe\">\n",
              "  <thead>\n",
              "    <tr style=\"text-align: right;\">\n",
              "      <th></th>\n",
              "      <th>Open</th>\n",
              "      <th>High</th>\n",
              "      <th>Low</th>\n",
              "      <th>Volume</th>\n",
              "    </tr>\n",
              "    <tr>\n",
              "      <th>Date</th>\n",
              "      <th></th>\n",
              "      <th></th>\n",
              "      <th></th>\n",
              "      <th></th>\n",
              "    </tr>\n",
              "  </thead>\n",
              "  <tbody>\n",
              "    <tr>\n",
              "      <th>2021-04-23</th>\n",
              "      <td>0.572541</td>\n",
              "      <td>0.572849</td>\n",
              "      <td>0.605253</td>\n",
              "      <td>0.140119</td>\n",
              "    </tr>\n",
              "    <tr>\n",
              "      <th>2021-04-26</th>\n",
              "      <td>0.566230</td>\n",
              "      <td>0.563453</td>\n",
              "      <td>0.589222</td>\n",
              "      <td>0.180247</td>\n",
              "    </tr>\n",
              "    <tr>\n",
              "      <th>2021-04-27</th>\n",
              "      <td>0.549930</td>\n",
              "      <td>0.548463</td>\n",
              "      <td>0.588327</td>\n",
              "      <td>0.099632</td>\n",
              "    </tr>\n",
              "    <tr>\n",
              "      <th>2021-04-28</th>\n",
              "      <td>0.550903</td>\n",
              "      <td>0.547366</td>\n",
              "      <td>0.589844</td>\n",
              "      <td>0.127436</td>\n",
              "    </tr>\n",
              "    <tr>\n",
              "      <th>2021-04-29</th>\n",
              "      <td>0.549172</td>\n",
              "      <td>0.546927</td>\n",
              "      <td>0.590661</td>\n",
              "      <td>0.087048</td>\n",
              "    </tr>\n",
              "  </tbody>\n",
              "</table>\n",
              "</div>"
            ],
            "text/plain": [
              "                Open      High       Low    Volume\n",
              "Date                                              \n",
              "2021-04-23  0.572541  0.572849  0.605253  0.140119\n",
              "2021-04-26  0.566230  0.563453  0.589222  0.180247\n",
              "2021-04-27  0.549930  0.548463  0.588327  0.099632\n",
              "2021-04-28  0.550903  0.547366  0.589844  0.127436\n",
              "2021-04-29  0.549172  0.546927  0.590661  0.087048"
            ]
          },
          "metadata": {}
        },
        {
          "output_type": "display_data",
          "data": {
            "text/html": [
              "<div>\n",
              "<style scoped>\n",
              "    .dataframe tbody tr th:only-of-type {\n",
              "        vertical-align: middle;\n",
              "    }\n",
              "\n",
              "    .dataframe tbody tr th {\n",
              "        vertical-align: top;\n",
              "    }\n",
              "\n",
              "    .dataframe thead th {\n",
              "        text-align: right;\n",
              "    }\n",
              "</style>\n",
              "<table border=\"1\" class=\"dataframe\">\n",
              "  <thead>\n",
              "    <tr style=\"text-align: right;\">\n",
              "      <th></th>\n",
              "      <th>Close</th>\n",
              "    </tr>\n",
              "    <tr>\n",
              "      <th>Date</th>\n",
              "      <th></th>\n",
              "    </tr>\n",
              "  </thead>\n",
              "  <tbody>\n",
              "    <tr>\n",
              "      <th>2021-04-23</th>\n",
              "      <td>905.40</td>\n",
              "    </tr>\n",
              "    <tr>\n",
              "      <th>2021-04-26</th>\n",
              "      <td>912.40</td>\n",
              "    </tr>\n",
              "    <tr>\n",
              "      <th>2021-04-27</th>\n",
              "      <td>910.20</td>\n",
              "    </tr>\n",
              "    <tr>\n",
              "      <th>2021-04-28</th>\n",
              "      <td>906.50</td>\n",
              "    </tr>\n",
              "    <tr>\n",
              "      <th>2021-04-29</th>\n",
              "      <td>910.35</td>\n",
              "    </tr>\n",
              "  </tbody>\n",
              "</table>\n",
              "</div>"
            ],
            "text/plain": [
              "             Close\n",
              "Date              \n",
              "2021-04-23  905.40\n",
              "2021-04-26  912.40\n",
              "2021-04-27  910.20\n",
              "2021-04-28  906.50\n",
              "2021-04-29  910.35"
            ]
          },
          "metadata": {}
        },
        {
          "output_type": "stream",
          "name": "stdout",
          "text": [
            "\n",
            " -----After process------ \n",
            "\n",
            "Shape of features :  (5216, 4)\n",
            "Shape of target :  (5216, 1)\n"
          ]
        },
        {
          "output_type": "display_data",
          "data": {
            "text/html": [
              "<div>\n",
              "<style scoped>\n",
              "    .dataframe tbody tr th:only-of-type {\n",
              "        vertical-align: middle;\n",
              "    }\n",
              "\n",
              "    .dataframe tbody tr th {\n",
              "        vertical-align: top;\n",
              "    }\n",
              "\n",
              "    .dataframe thead th {\n",
              "        text-align: right;\n",
              "    }\n",
              "</style>\n",
              "<table border=\"1\" class=\"dataframe\">\n",
              "  <thead>\n",
              "    <tr style=\"text-align: right;\">\n",
              "      <th></th>\n",
              "      <th>Close</th>\n",
              "    </tr>\n",
              "    <tr>\n",
              "      <th>Date</th>\n",
              "      <th></th>\n",
              "    </tr>\n",
              "  </thead>\n",
              "  <tbody>\n",
              "    <tr>\n",
              "      <th>2020-12-10</th>\n",
              "      <td>755.85</td>\n",
              "    </tr>\n",
              "    <tr>\n",
              "      <th>2020-12-11</th>\n",
              "      <td>789.30</td>\n",
              "    </tr>\n",
              "    <tr>\n",
              "      <th>2020-12-14</th>\n",
              "      <td>781.65</td>\n",
              "    </tr>\n",
              "    <tr>\n",
              "      <th>2020-12-15</th>\n",
              "      <td>786.80</td>\n",
              "    </tr>\n",
              "    <tr>\n",
              "      <th>2020-12-16</th>\n",
              "      <td>783.20</td>\n",
              "    </tr>\n",
              "  </tbody>\n",
              "</table>\n",
              "</div>"
            ],
            "text/plain": [
              "             Close\n",
              "Date              \n",
              "2020-12-10  755.85\n",
              "2020-12-11  789.30\n",
              "2020-12-14  781.65\n",
              "2020-12-15  786.80\n",
              "2020-12-16  783.20"
            ]
          },
          "metadata": {}
        }
      ]
    },
    {
      "cell_type": "markdown",
      "metadata": {
        "id": "EL9aoNwwlPdB"
      },
      "source": [
        "# Train test Split using Timeseriessplit"
      ]
    },
    {
      "cell_type": "code",
      "metadata": {
        "id": "yDAL7RAXlPdC"
      },
      "source": [
        "ts_split= TimeSeriesSplit(n_splits=5)\n",
        "for train_index, test_index in ts_split.split(feature_minmax_transform):\n",
        "        X_train, X_test = feature_minmax_transform[:len(train_index)], feature_minmax_transform[len(train_index): (len(train_index)+len(test_index))]\n",
        "        y_train, y_test = target_adj_close[:len(train_index)].values.ravel(), target_adj_close[len(train_index): (len(train_index)+len(test_index))].values.ravel()"
      ],
      "execution_count": 57,
      "outputs": []
    },
    {
      "cell_type": "code",
      "metadata": {
        "colab": {
          "base_uri": "https://localhost:8080/"
        },
        "id": "EHZuYvgMlPdC",
        "outputId": "ced0e3b7-64d9-44aa-e2e0-7a8380c32b2d"
      },
      "source": [
        "\n",
        "X_train.shape"
      ],
      "execution_count": 58,
      "outputs": [
        {
          "output_type": "execute_result",
          "data": {
            "text/plain": [
              "(4347, 4)"
            ]
          },
          "metadata": {},
          "execution_count": 58
        }
      ]
    },
    {
      "cell_type": "code",
      "metadata": {
        "colab": {
          "base_uri": "https://localhost:8080/"
        },
        "id": "CSVdhU4VlPdD",
        "outputId": "f99bb2ee-3bb2-4134-b918-b3b7995083ad"
      },
      "source": [
        "X_test.shape"
      ],
      "execution_count": 59,
      "outputs": [
        {
          "output_type": "execute_result",
          "data": {
            "text/plain": [
              "(869, 4)"
            ]
          },
          "metadata": {},
          "execution_count": 59
        }
      ]
    },
    {
      "cell_type": "code",
      "metadata": {
        "colab": {
          "base_uri": "https://localhost:8080/"
        },
        "id": "YNUK01yYlPdD",
        "outputId": "be6bd3a3-1c83-44de-fd18-5be068b5f591"
      },
      "source": [
        "y_train.shape"
      ],
      "execution_count": 60,
      "outputs": [
        {
          "output_type": "execute_result",
          "data": {
            "text/plain": [
              "(4347,)"
            ]
          },
          "metadata": {},
          "execution_count": 60
        }
      ]
    },
    {
      "cell_type": "code",
      "metadata": {
        "colab": {
          "base_uri": "https://localhost:8080/"
        },
        "id": "D1iALXdOlPdE",
        "outputId": "48778d77-32f2-4739-e9fe-7fdb15b4efe6"
      },
      "source": [
        "y_test.shape"
      ],
      "execution_count": 61,
      "outputs": [
        {
          "output_type": "execute_result",
          "data": {
            "text/plain": [
              "(869,)"
            ]
          },
          "metadata": {},
          "execution_count": 61
        }
      ]
    },
    {
      "cell_type": "code",
      "metadata": {
        "id": "NwIgoDuNlPdE"
      },
      "source": [
        "def validate_result(model, model_name):\n",
        "    predicted = model.predict(validation_X)\n",
        "    RSME_score = np.sqrt(mean_squared_error(validation_y, predicted))\n",
        "    print('RMSE: ', RSME_score)\n",
        "    \n",
        "    R2_score = r2_score(validation_y, predicted)\n",
        "    print('R2 score: ', R2_score)\n",
        "\n",
        "    plt.plot(validation_y.index, predicted,'r', label='Predict')\n",
        "    plt.plot(validation_y.index, validation_y,'b', label='Actual')\n",
        "    plt.ylabel('Price')\n",
        "    plt.gca().xaxis.set_major_formatter(mdates.DateFormatter('%Y-%m-%d'))\n",
        "    plt.gca().xaxis.set_major_locator(mdates.MonthLocator())\n",
        "    plt.title(model_name + ' Predict vs Actual')\n",
        "    plt.legend(loc='upper right')\n",
        "    plt.show()"
      ],
      "execution_count": 62,
      "outputs": []
    },
    {
      "cell_type": "markdown",
      "metadata": {
        "id": "XgNRZR-qlPdF"
      },
      "source": [
        "# Benchmark Model"
      ]
    },
    {
      "cell_type": "code",
      "metadata": {
        "colab": {
          "base_uri": "https://localhost:8080/",
          "height": 315
        },
        "id": "mWv8oNFolPdF",
        "outputId": "28e560e5-89cf-4c4f-cd56-167f7dae49b7"
      },
      "source": [
        "from sklearn.tree import DecisionTreeRegressor\n",
        "\n",
        "dt = DecisionTreeRegressor(random_state=0)\n",
        "\n",
        "benchmark_dt=dt.fit(X_train, y_train)\n",
        "\n",
        "validate_result(benchmark_dt, 'Decision Tree Regression')"
      ],
      "execution_count": 63,
      "outputs": [
        {
          "output_type": "stream",
          "name": "stdout",
          "text": [
            "RMSE:  34.962776755100066\n",
            "R2 score:  0.34769564626063665\n"
          ]
        },
        {
          "output_type": "display_data",
          "data": {
            "image/png": "[encoded data removed]",
            "text/plain": [
              "<Figure size 432x288 with 1 Axes>"
            ]
          },
          "metadata": {
            "needs_background": "light"
          }
        }
      ]
    },
    {
      "cell_type": "markdown",
      "metadata": {
        "id": "dlWShK1hlPdF"
      },
      "source": [
        "# Process the data for Bidirectional LSTM"
      ]
    },
    {
      "cell_type": "code",
      "metadata": {
        "id": "-XgoSbd5lPdF"
      },
      "source": [
        "X_train =np.array(X_train)\n",
        "X_test =np.array(X_test)\n",
        "\n",
        "X_tr_t = X_train.reshape(X_train.shape[0], 1, X_train.shape[1])\n",
        "X_tst_t = X_test.reshape(X_test.shape[0], 1, X_test.shape[1])"
      ],
      "execution_count": 64,
      "outputs": []
    },
    {
      "cell_type": "markdown",
      "metadata": {
        "id": "ex6U3OEclPdG"
      },
      "source": [
        "# Model building : Bidirectional LSTM"
      ]
    },
    {
      "cell_type": "code",
      "metadata": {
        "colab": {
          "base_uri": "https://localhost:8080/"
        },
        "id": "ULQqgQR9lPdG",
        "outputId": "d698efdd-c375-4042-fc48-8d6b6cc945ea"
      },
      "source": [
        "from keras.models import Sequential\n",
        "from keras.layers import Dense\n",
        "import keras.backend as K\n",
        "from keras.callbacks import EarlyStopping\n",
        "from keras.models import load_model\n",
        "from keras.layers import LSTM, Bidirectional\n",
        "K.clear_session()\n",
        "model_lstm = Sequential()\n",
        "model_lstm.add(Bidirectional(LSTM(16, input_shape=(1, X_train.shape[1]), activation='relu', return_sequences=False), input_shape=(1, X_train.shape[1])))\n",
        "model_lstm.add(Dense(1))\n",
        "model_lstm.compile(loss='mean_squared_error', optimizer='adam')\n",
        "early_stop = EarlyStopping(monitor='loss', patience=5, verbose=1)\n",
        "history_model_lstm = model_lstm.fit(X_tr_t, y_train, epochs=200, batch_size=8, verbose=1, shuffle=False, callbacks=[early_stop])"
      ],
      "execution_count": 65,
      "outputs": [
        {
          "output_type": "stream",
          "name": "stdout",
          "text": [
            "Epoch 1/200\n",
            "544/544 [==============================] - 3s 2ms/step - loss: 373093.4688\n",
            "Epoch 2/200\n",
            "544/544 [==============================] - 1s 2ms/step - loss: 340539.0000\n",
            "Epoch 3/200\n",
            "544/544 [==============================] - 1s 2ms/step - loss: 287667.2500\n",
            "Epoch 4/200\n",
            "544/544 [==============================] - 1s 2ms/step - loss: 226588.7656\n",
            "Epoch 5/200\n",
            "544/544 [==============================] - 1s 2ms/step - loss: 167569.1094\n",
            "Epoch 6/200\n",
            "544/544 [==============================] - 1s 2ms/step - loss: 116686.5703\n",
            "Epoch 7/200\n",
            "544/544 [==============================] - 1s 2ms/step - loss: 77169.7812\n",
            "Epoch 8/200\n",
            "544/544 [==============================] - 1s 2ms/step - loss: 49602.7539\n",
            "Epoch 9/200\n",
            "544/544 [==============================] - 1s 3ms/step - loss: 32306.3418\n",
            "Epoch 10/200\n",
            "544/544 [==============================] - 1s 2ms/step - loss: 22144.0176\n",
            "Epoch 11/200\n",
            "544/544 [==============================] - 1s 2ms/step - loss: 15732.6504\n",
            "Epoch 12/200\n",
            "544/544 [==============================] - 1s 3ms/step - loss: 10690.9180\n",
            "Epoch 13/200\n",
            "544/544 [==============================] - 1s 3ms/step - loss: 6572.7959\n",
            "Epoch 14/200\n",
            "544/544 [==============================] - 2s 3ms/step - loss: 3623.7075\n",
            "Epoch 15/200\n",
            "544/544 [==============================] - 1s 2ms/step - loss: 1891.4596\n",
            "Epoch 16/200\n",
            "544/544 [==============================] - 1s 2ms/step - loss: 1099.3246\n",
            "Epoch 17/200\n",
            "544/544 [==============================] - 1s 2ms/step - loss: 815.7309\n",
            "Epoch 18/200\n",
            "544/544 [==============================] - 1s 2ms/step - loss: 722.9053\n",
            "Epoch 19/200\n",
            "544/544 [==============================] - 1s 2ms/step - loss: 685.3452\n",
            "Epoch 20/200\n",
            "544/544 [==============================] - 1s 3ms/step - loss: 663.9805\n",
            "Epoch 21/200\n",
            "544/544 [==============================] - 1s 3ms/step - loss: 649.4247\n",
            "Epoch 22/200\n",
            "544/544 [==============================] - 1s 2ms/step - loss: 639.0487\n",
            "Epoch 23/200\n",
            "544/544 [==============================] - 1s 2ms/step - loss: 631.6234\n",
            "Epoch 24/200\n",
            "544/544 [==============================] - 1s 2ms/step - loss: 626.3060\n",
            "Epoch 25/200\n",
            "544/544 [==============================] - 1s 2ms/step - loss: 622.4935\n",
            "Epoch 26/200\n",
            "544/544 [==============================] - 1s 3ms/step - loss: 619.7542\n",
            "Epoch 27/200\n",
            "544/544 [==============================] - 1s 2ms/step - loss: 617.7816\n",
            "Epoch 28/200\n",
            "544/544 [==============================] - 1s 3ms/step - loss: 616.3627\n",
            "Epoch 29/200\n",
            "544/544 [==============================] - 1s 2ms/step - loss: 615.3384\n",
            "Epoch 30/200\n",
            "544/544 [==============================] - 1s 2ms/step - loss: 614.6065\n",
            "Epoch 31/200\n",
            "544/544 [==============================] - 1s 3ms/step - loss: 614.0656\n",
            "Epoch 32/200\n",
            "544/544 [==============================] - 1s 3ms/step - loss: 613.6854\n",
            "Epoch 33/200\n",
            "544/544 [==============================] - 1s 2ms/step - loss: 613.4056\n",
            "Epoch 34/200\n",
            "544/544 [==============================] - 1s 2ms/step - loss: 613.1983\n",
            "Epoch 35/200\n",
            "544/544 [==============================] - 1s 2ms/step - loss: 613.0449\n",
            "Epoch 36/200\n",
            "544/544 [==============================] - 1s 2ms/step - loss: 612.9099\n",
            "Epoch 37/200\n",
            "544/544 [==============================] - 1s 3ms/step - loss: 612.8162\n",
            "Epoch 38/200\n",
            "544/544 [==============================] - 1s 3ms/step - loss: 612.7401\n",
            "Epoch 39/200\n",
            "544/544 [==============================] - 1s 2ms/step - loss: 612.6601\n",
            "Epoch 40/200\n",
            "544/544 [==============================] - 1s 2ms/step - loss: 612.6034\n",
            "Epoch 41/200\n",
            "544/544 [==============================] - 1s 2ms/step - loss: 612.5306\n",
            "Epoch 42/200\n",
            "544/544 [==============================] - 1s 3ms/step - loss: 612.4717\n",
            "Epoch 43/200\n",
            "544/544 [==============================] - 1s 2ms/step - loss: 612.4019\n",
            "Epoch 44/200\n",
            "544/544 [==============================] - 1s 2ms/step - loss: 612.3441\n",
            "Epoch 45/200\n",
            "544/544 [==============================] - 1s 3ms/step - loss: 612.2704\n",
            "Epoch 46/200\n",
            "544/544 [==============================] - 1s 2ms/step - loss: 612.2087\n",
            "Epoch 47/200\n",
            "544/544 [==============================] - 1s 2ms/step - loss: 612.1293\n",
            "Epoch 48/200\n",
            "544/544 [==============================] - 1s 3ms/step - loss: 612.0661\n",
            "Epoch 49/200\n",
            "544/544 [==============================] - 1s 3ms/step - loss: 611.9833\n",
            "Epoch 50/200\n",
            "544/544 [==============================] - 1s 2ms/step - loss: 611.8995\n",
            "Epoch 51/200\n",
            "544/544 [==============================] - 1s 2ms/step - loss: 611.8215\n",
            "Epoch 52/200\n",
            "544/544 [==============================] - 1s 2ms/step - loss: 611.7426\n",
            "Epoch 53/200\n",
            "544/544 [==============================] - 1s 2ms/step - loss: 611.6589\n",
            "Epoch 54/200\n",
            "544/544 [==============================] - 1s 2ms/step - loss: 611.5810\n",
            "Epoch 55/200\n",
            "544/544 [==============================] - 1s 2ms/step - loss: 611.4886\n",
            "Epoch 56/200\n",
            "544/544 [==============================] - 1s 3ms/step - loss: 611.3965\n",
            "Epoch 57/200\n",
            "544/544 [==============================] - 1s 2ms/step - loss: 611.3105\n",
            "Epoch 58/200\n",
            "544/544 [==============================] - 1s 3ms/step - loss: 611.2206\n",
            "Epoch 59/200\n",
            "544/544 [==============================] - 1s 2ms/step - loss: 611.1257\n",
            "Epoch 60/200\n",
            "544/544 [==============================] - 1s 3ms/step - loss: 611.0375\n",
            "Epoch 61/200\n",
            "544/544 [==============================] - 1s 3ms/step - loss: 610.9371\n",
            "Epoch 62/200\n",
            "544/544 [==============================] - 1s 3ms/step - loss: 610.8456\n",
            "Epoch 63/200\n",
            "544/544 [==============================] - 1s 2ms/step - loss: 610.7495\n",
            "Epoch 64/200\n",
            "544/544 [==============================] - 1s 2ms/step - loss: 610.6534\n",
            "Epoch 65/200\n",
            "544/544 [==============================] - 1s 2ms/step - loss: 610.5517\n",
            "Epoch 66/200\n",
            "544/544 [==============================] - 1s 2ms/step - loss: 610.4570\n",
            "Epoch 67/200\n",
            "544/544 [==============================] - 1s 2ms/step - loss: 610.3544\n",
            "Epoch 68/200\n",
            "544/544 [==============================] - 1s 2ms/step - loss: 610.2589\n",
            "Epoch 69/200\n",
            "544/544 [==============================] - 1s 3ms/step - loss: 610.1527\n",
            "Epoch 70/200\n",
            "544/544 [==============================] - 1s 2ms/step - loss: 610.0527\n",
            "Epoch 71/200\n",
            "544/544 [==============================] - 1s 2ms/step - loss: 609.9501\n",
            "Epoch 72/200\n",
            "544/544 [==============================] - 1s 2ms/step - loss: 609.8466\n",
            "Epoch 73/200\n",
            "544/544 [==============================] - 1s 2ms/step - loss: 609.7393\n",
            "Epoch 74/200\n",
            "544/544 [==============================] - 1s 2ms/step - loss: 609.6372\n",
            "Epoch 75/200\n",
            "544/544 [==============================] - 1s 3ms/step - loss: 609.5272\n",
            "Epoch 76/200\n",
            "544/544 [==============================] - 1s 3ms/step - loss: 609.4220\n",
            "Epoch 77/200\n",
            "544/544 [==============================] - 1s 2ms/step - loss: 609.3160\n",
            "Epoch 78/200\n",
            "544/544 [==============================] - 1s 3ms/step - loss: 609.2021\n",
            "Epoch 79/200\n",
            "544/544 [==============================] - 1s 3ms/step - loss: 609.0942\n",
            "Epoch 80/200\n",
            "544/544 [==============================] - 1s 3ms/step - loss: 608.9831\n",
            "Epoch 81/200\n",
            "544/544 [==============================] - 1s 3ms/step - loss: 608.8740\n",
            "Epoch 82/200\n",
            "544/544 [==============================] - 1s 3ms/step - loss: 608.7545\n",
            "Epoch 83/200\n",
            "544/544 [==============================] - 1s 3ms/step - loss: 608.6407\n",
            "Epoch 84/200\n",
            "544/544 [==============================] - 1s 2ms/step - loss: 608.5333\n",
            "Epoch 85/200\n",
            "544/544 [==============================] - 1s 3ms/step - loss: 608.4096\n",
            "Epoch 86/200\n",
            "544/544 [==============================] - 2s 3ms/step - loss: 608.2948\n",
            "Epoch 87/200\n",
            "544/544 [==============================] - 2s 3ms/step - loss: 608.1703\n",
            "Epoch 88/200\n",
            "544/544 [==============================] - 2s 3ms/step - loss: 608.0568\n",
            "Epoch 89/200\n",
            "544/544 [==============================] - 1s 3ms/step - loss: 607.9293\n",
            "Epoch 90/200\n",
            "544/544 [==============================] - 1s 3ms/step - loss: 607.8129\n",
            "Epoch 91/200\n",
            "544/544 [==============================] - 1s 3ms/step - loss: 607.6790\n",
            "Epoch 92/200\n",
            "544/544 [==============================] - 1s 3ms/step - loss: 607.5634\n",
            "Epoch 93/200\n",
            "544/544 [==============================] - 1s 3ms/step - loss: 607.4259\n",
            "Epoch 94/200\n",
            "544/544 [==============================] - 1s 3ms/step - loss: 607.3091\n",
            "Epoch 95/200\n",
            "544/544 [==============================] - 1s 3ms/step - loss: 607.1686\n",
            "Epoch 96/200\n",
            "544/544 [==============================] - 1s 3ms/step - loss: 607.0450\n",
            "Epoch 97/200\n",
            "544/544 [==============================] - 1s 3ms/step - loss: 606.9141\n",
            "Epoch 98/200\n",
            "544/544 [==============================] - 1s 3ms/step - loss: 606.7694\n",
            "Epoch 99/200\n",
            "544/544 [==============================] - 1s 3ms/step - loss: 606.6422\n",
            "Epoch 100/200\n",
            "544/544 [==============================] - 1s 3ms/step - loss: 606.5031\n",
            "Epoch 101/200\n",
            "544/544 [==============================] - 1s 3ms/step - loss: 606.3556\n",
            "Epoch 102/200\n",
            "544/544 [==============================] - 1s 3ms/step - loss: 606.2221\n",
            "Epoch 103/200\n",
            "544/544 [==============================] - 1s 3ms/step - loss: 606.0800\n",
            "Epoch 104/200\n",
            "544/544 [==============================] - 1s 3ms/step - loss: 605.9265\n",
            "Epoch 105/200\n",
            "544/544 [==============================] - 1s 3ms/step - loss: 605.7895\n",
            "Epoch 106/200\n",
            "544/544 [==============================] - 1s 3ms/step - loss: 605.6365\n",
            "Epoch 107/200\n",
            "544/544 [==============================] - 1s 3ms/step - loss: 605.4817\n",
            "Epoch 108/200\n",
            "544/544 [==============================] - 1s 2ms/step - loss: 605.3298\n",
            "Epoch 109/200\n",
            "544/544 [==============================] - 1s 2ms/step - loss: 605.1747\n",
            "Epoch 110/200\n",
            "544/544 [==============================] - 1s 2ms/step - loss: 605.0184\n",
            "Epoch 111/200\n",
            "544/544 [==============================] - 1s 3ms/step - loss: 604.8634\n",
            "Epoch 112/200\n",
            "544/544 [==============================] - 1s 3ms/step - loss: 604.7092\n",
            "Epoch 113/200\n",
            "544/544 [==============================] - 1s 3ms/step - loss: 604.5380\n",
            "Epoch 114/200\n",
            "544/544 [==============================] - 1s 3ms/step - loss: 604.3700\n",
            "Epoch 115/200\n",
            "544/544 [==============================] - 1s 2ms/step - loss: 604.2027\n",
            "Epoch 116/200\n",
            "544/544 [==============================] - 1s 2ms/step - loss: 604.0338\n",
            "Epoch 117/200\n",
            "544/544 [==============================] - 1s 2ms/step - loss: 603.8614\n",
            "Epoch 118/200\n",
            "544/544 [==============================] - 1s 3ms/step - loss: 603.6787\n",
            "Epoch 119/200\n",
            "544/544 [==============================] - 1s 3ms/step - loss: 603.5073\n",
            "Epoch 120/200\n",
            "544/544 [==============================] - 1s 2ms/step - loss: 603.3242\n",
            "Epoch 121/200\n",
            "544/544 [==============================] - 1s 3ms/step - loss: 603.1429\n",
            "Epoch 122/200\n",
            "544/544 [==============================] - 1s 2ms/step - loss: 602.9547\n",
            "Epoch 123/200\n",
            "544/544 [==============================] - 1s 3ms/step - loss: 602.7663\n",
            "Epoch 124/200\n",
            "544/544 [==============================] - 1s 3ms/step - loss: 602.5742\n",
            "Epoch 125/200\n",
            "544/544 [==============================] - 1s 2ms/step - loss: 602.3790\n",
            "Epoch 126/200\n",
            "544/544 [==============================] - 1s 2ms/step - loss: 602.1812\n",
            "Epoch 127/200\n",
            "544/544 [==============================] - 1s 2ms/step - loss: 601.9813\n",
            "Epoch 128/200\n",
            "544/544 [==============================] - 1s 3ms/step - loss: 601.7737\n",
            "Epoch 129/200\n",
            "544/544 [==============================] - 1s 3ms/step - loss: 601.5722\n",
            "Epoch 130/200\n",
            "544/544 [==============================] - 1s 3ms/step - loss: 601.3606\n",
            "Epoch 131/200\n",
            "544/544 [==============================] - 1s 3ms/step - loss: 601.1479\n",
            "Epoch 132/200\n",
            "544/544 [==============================] - 2s 3ms/step - loss: 600.9322\n",
            "Epoch 133/200\n",
            "544/544 [==============================] - 1s 2ms/step - loss: 600.7014\n",
            "Epoch 134/200\n",
            "544/544 [==============================] - 1s 3ms/step - loss: 600.4833\n",
            "Epoch 135/200\n",
            "544/544 [==============================] - 1s 3ms/step - loss: 600.2574\n",
            "Epoch 136/200\n",
            "544/544 [==============================] - 1s 3ms/step - loss: 600.0300\n",
            "Epoch 137/200\n",
            "544/544 [==============================] - 2s 3ms/step - loss: 599.7984\n",
            "Epoch 138/200\n",
            "544/544 [==============================] - 1s 3ms/step - loss: 599.5641\n",
            "Epoch 139/200\n",
            "544/544 [==============================] - 1s 3ms/step - loss: 599.3311\n",
            "Epoch 140/200\n",
            "544/544 [==============================] - 1s 3ms/step - loss: 599.0925\n",
            "Epoch 141/200\n",
            "544/544 [==============================] - 1s 3ms/step - loss: 598.8408\n",
            "Epoch 142/200\n",
            "544/544 [==============================] - 1s 2ms/step - loss: 598.6004\n",
            "Epoch 143/200\n",
            "544/544 [==============================] - 1s 3ms/step - loss: 598.3475\n",
            "Epoch 144/200\n",
            "544/544 [==============================] - 1s 2ms/step - loss: 598.0943\n",
            "Epoch 145/200\n",
            "544/544 [==============================] - 1s 3ms/step - loss: 597.8380\n",
            "Epoch 146/200\n",
            "544/544 [==============================] - 1s 2ms/step - loss: 597.5767\n",
            "Epoch 147/200\n",
            "544/544 [==============================] - 1s 3ms/step - loss: 597.3025\n",
            "Epoch 148/200\n",
            "544/544 [==============================] - 1s 3ms/step - loss: 597.0536\n",
            "Epoch 149/200\n",
            "544/544 [==============================] - 1s 3ms/step - loss: 596.7866\n",
            "Epoch 150/200\n",
            "544/544 [==============================] - 1s 3ms/step - loss: 596.5093\n",
            "Epoch 151/200\n",
            "544/544 [==============================] - 1s 3ms/step - loss: 596.2415\n",
            "Epoch 152/200\n",
            "544/544 [==============================] - 1s 3ms/step - loss: 595.9735\n",
            "Epoch 153/200\n",
            "544/544 [==============================] - 1s 3ms/step - loss: 595.6880\n",
            "Epoch 154/200\n",
            "544/544 [==============================] - 1s 3ms/step - loss: 595.4186\n",
            "Epoch 155/200\n",
            "544/544 [==============================] - 1s 3ms/step - loss: 595.1310\n",
            "Epoch 156/200\n",
            "544/544 [==============================] - 1s 2ms/step - loss: 594.8487\n",
            "Epoch 157/200\n",
            "544/544 [==============================] - 1s 3ms/step - loss: 594.5746\n",
            "Epoch 158/200\n",
            "544/544 [==============================] - 1s 3ms/step - loss: 594.2944\n",
            "Epoch 159/200\n",
            "544/544 [==============================] - 1s 3ms/step - loss: 594.0031\n",
            "Epoch 160/200\n",
            "544/544 [==============================] - 1s 3ms/step - loss: 593.7195\n",
            "Epoch 161/200\n",
            "544/544 [==============================] - 1s 3ms/step - loss: 593.4393\n",
            "Epoch 162/200\n",
            "544/544 [==============================] - 1s 3ms/step - loss: 593.1639\n",
            "Epoch 163/200\n",
            "544/544 [==============================] - 1s 3ms/step - loss: 592.8812\n",
            "Epoch 164/200\n",
            "544/544 [==============================] - 1s 3ms/step - loss: 592.5905\n",
            "Epoch 165/200\n",
            "544/544 [==============================] - 1s 2ms/step - loss: 592.3229\n",
            "Epoch 166/200\n",
            "544/544 [==============================] - 1s 3ms/step - loss: 592.0312\n",
            "Epoch 167/200\n",
            "544/544 [==============================] - 1s 3ms/step - loss: 591.7524\n",
            "Epoch 168/200\n",
            "544/544 [==============================] - 1s 3ms/step - loss: 591.4760\n",
            "Epoch 169/200\n",
            "544/544 [==============================] - 1s 3ms/step - loss: 591.2013\n",
            "Epoch 170/200\n",
            "544/544 [==============================] - 1s 3ms/step - loss: 590.9318\n",
            "Epoch 171/200\n",
            "544/544 [==============================] - 1s 2ms/step - loss: 590.6716\n",
            "Epoch 172/200\n",
            "544/544 [==============================] - 1s 3ms/step - loss: 590.4099\n",
            "Epoch 173/200\n",
            "544/544 [==============================] - 1s 3ms/step - loss: 590.1489\n",
            "Epoch 174/200\n",
            "544/544 [==============================] - 1s 3ms/step - loss: 589.8954\n",
            "Epoch 175/200\n",
            "544/544 [==============================] - 1s 3ms/step - loss: 589.6548\n",
            "Epoch 176/200\n",
            "544/544 [==============================] - 1s 2ms/step - loss: 589.4028\n",
            "Epoch 177/200\n",
            "544/544 [==============================] - 1s 3ms/step - loss: 589.1570\n",
            "Epoch 178/200\n",
            "544/544 [==============================] - 1s 3ms/step - loss: 588.9163\n",
            "Epoch 179/200\n",
            "544/544 [==============================] - 1s 3ms/step - loss: 588.6761\n",
            "Epoch 180/200\n",
            "544/544 [==============================] - 1s 3ms/step - loss: 588.4507\n",
            "Epoch 181/200\n",
            "544/544 [==============================] - 1s 3ms/step - loss: 588.2175\n",
            "Epoch 182/200\n",
            "544/544 [==============================] - 1s 3ms/step - loss: 587.9966\n",
            "Epoch 183/200\n",
            "544/544 [==============================] - 1s 3ms/step - loss: 587.7811\n",
            "Epoch 184/200\n",
            "544/544 [==============================] - 1s 3ms/step - loss: 587.5728\n",
            "Epoch 185/200\n",
            "544/544 [==============================] - 1s 3ms/step - loss: 587.3691\n",
            "Epoch 186/200\n",
            "544/544 [==============================] - 1s 3ms/step - loss: 587.1683\n",
            "Epoch 187/200\n",
            "544/544 [==============================] - 1s 3ms/step - loss: 586.9753\n",
            "Epoch 188/200\n",
            "544/544 [==============================] - 1s 3ms/step - loss: 586.8049\n",
            "Epoch 189/200\n",
            "544/544 [==============================] - 1s 3ms/step - loss: 586.6130\n",
            "Epoch 190/200\n",
            "544/544 [==============================] - 1s 3ms/step - loss: 586.4360\n",
            "Epoch 191/200\n",
            "544/544 [==============================] - 1s 3ms/step - loss: 586.2674\n",
            "Epoch 192/200\n",
            "544/544 [==============================] - 1s 3ms/step - loss: 586.1001\n",
            "Epoch 193/200\n",
            "544/544 [==============================] - 1s 3ms/step - loss: 585.9320\n",
            "Epoch 194/200\n",
            "544/544 [==============================] - 1s 3ms/step - loss: 585.7806\n",
            "Epoch 195/200\n",
            "544/544 [==============================] - 1s 3ms/step - loss: 585.6263\n",
            "Epoch 196/200\n",
            "544/544 [==============================] - 1s 3ms/step - loss: 585.4782\n",
            "Epoch 197/200\n",
            "544/544 [==============================] - 1s 3ms/step - loss: 585.3369\n",
            "Epoch 198/200\n",
            "544/544 [==============================] - 1s 3ms/step - loss: 585.1989\n",
            "Epoch 199/200\n",
            "544/544 [==============================] - 1s 3ms/step - loss: 585.0643\n",
            "Epoch 200/200\n",
            "544/544 [==============================] - 1s 3ms/step - loss: 584.9415\n"
          ]
        }
      ]
    },
    {
      "cell_type": "markdown",
      "metadata": {
        "id": "TqHTyfnClPdG"
      },
      "source": [
        "# Evaluation of Model"
      ]
    },
    {
      "cell_type": "code",
      "metadata": {
        "colab": {
          "base_uri": "https://localhost:8080/"
        },
        "id": "HPjj8z3klPdG",
        "outputId": "ffaa3f68-73cd-4b91-9250-9dfa4bda626a"
      },
      "source": [
        "y_pred_test_lstm = model_lstm.predict(X_tst_t)\n",
        "y_train_pred_lstm = model_lstm.predict(X_tr_t)\n",
        "print(\"The R2 score on the Train set is:\\t{:0.3f}\".format(r2_score(y_train, y_train_pred_lstm)))\n",
        "r2_train = r2_score(y_train, y_train_pred_lstm)\n",
        "\n",
        "print(\"The R2 score on the Test set is:\\t{:0.3f}\".format(r2_score(y_test, y_pred_test_lstm)))\n",
        "r2_test = r2_score(y_test, y_pred_test_lstm)\n"
      ],
      "execution_count": 66,
      "outputs": [
        {
          "output_type": "stream",
          "name": "stdout",
          "text": [
            "The R2 score on the Train set is:\t0.994\n",
            "The R2 score on the Test set is:\t0.980\n"
          ]
        }
      ]
    },
    {
      "cell_type": "markdown",
      "metadata": {
        "id": "Xtpq7k48lPdG"
      },
      "source": [
        "## Predictions made by LSTM"
      ]
    },
    {
      "cell_type": "code",
      "metadata": {
        "colab": {
          "base_uri": "https://localhost:8080/"
        },
        "id": "C734g36KlPdH",
        "outputId": "25012089-3bb5-4bc9-be22-302a3a641140"
      },
      "source": [
        "score_lstm= model_lstm.evaluate(X_tst_t, y_test, batch_size=1)"
      ],
      "execution_count": 67,
      "outputs": [
        {
          "output_type": "stream",
          "name": "stdout",
          "text": [
            "869/869 [==============================] - 2s 1ms/step - loss: 159.9248\n"
          ]
        }
      ]
    },
    {
      "cell_type": "code",
      "metadata": {
        "colab": {
          "base_uri": "https://localhost:8080/"
        },
        "id": "pmjuOyIylPdH",
        "outputId": "651628e2-a4bd-47cf-b370-6dc39b0940b7"
      },
      "source": [
        "print('LSTM: %f'%score_lstm)"
      ],
      "execution_count": 68,
      "outputs": [
        {
          "output_type": "stream",
          "name": "stdout",
          "text": [
            "LSTM: 159.924774\n"
          ]
        }
      ]
    },
    {
      "cell_type": "code",
      "metadata": {
        "id": "Wt-1Q6yFlPdH"
      },
      "source": [
        "y_pred_test_LSTM = model_lstm.predict(X_tst_t)"
      ],
      "execution_count": 69,
      "outputs": []
    },
    {
      "cell_type": "markdown",
      "metadata": {
        "id": "MiHT5P3DlPdH"
      },
      "source": [
        "# LSTM's Prediction Visual"
      ]
    },
    {
      "cell_type": "code",
      "metadata": {
        "colab": {
          "base_uri": "https://localhost:8080/",
          "height": 295
        },
        "id": "aIiJwZiAlPdI",
        "outputId": "a6ed25f1-982a-40ff-ee4a-f6e51f4c2f10"
      },
      "source": [
        "plt.plot(y_test, label='True')\n",
        "plt.plot(y_pred_test_LSTM, label='LSTM')\n",
        "plt.title(\"LSTM's_Prediction\")\n",
        "plt.xlabel('Observation')\n",
        "plt.ylabel('INR_Scaled')\n",
        "plt.legend()\n",
        "plt.show()\n"
      ],
      "execution_count": 70,
      "outputs": [
        {
          "output_type": "display_data",
          "data": {
            "image/png": "[encoded data removed]",
            "text/plain": [
              "<Figure size 432x288 with 1 Axes>"
            ]
          },
          "metadata": {
            "needs_background": "light"
          }
        }
      ]
    }
  ]
}